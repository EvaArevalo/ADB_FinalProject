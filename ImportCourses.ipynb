{
 "cells": [
  {
   "cell_type": "markdown",
   "metadata": {},
   "source": [
    "# 1. Read JSON file"
   ]
  },
  {
   "cell_type": "code",
   "execution_count": 6,
   "metadata": {
    "ExecuteTime": {
     "end_time": "2018-12-30T12:09:45.552817Z",
     "start_time": "2018-12-30T12:09:45.222870Z"
    }
   },
   "outputs": [
    {
     "name": "stdout",
     "output_type": "stream",
     "text": [
      "826\n",
      "dict_keys(['cTitle', 'cProvider', 'cPhotoLink', 'cDirectLink', 'cDescription', 'cWeekSection', 'cAuthor', 'cLanguage', 'tmpCateg', 'tmpId'])\n"
     ]
    }
   ],
   "source": [
    "import json\n",
    "\n",
    "#Read JSON data into the datastore variable\n",
    "filename = 'online course data.json'\n",
    "with open(filename, 'r', encoding='UTF-8') as f:\n",
    "    onlineCourses_JSONarr = json.load(f)\n",
    "\n",
    "#Use the new datastore datastructure\n",
    "print(len(onlineCourses_JSONarr))\n",
    "print(onlineCourses_JSONarr[0].keys())"
   ]
  },
  {
   "cell_type": "code",
   "execution_count": 154,
   "metadata": {
    "ExecuteTime": {
     "end_time": "2018-12-30T07:25:40.331719Z",
     "start_time": "2018-12-30T07:25:40.325721Z"
    }
   },
   "outputs": [
    {
     "name": "stdout",
     "output_type": "stream",
     "text": [
      "Machine Learning\n",
      "用Python玩转数据 Data Processing Using Python\n",
      "Building a Data Science Team\n",
      "Command Line Tools for Genomic Data Science\n",
      "A Crash Course in Data Science\n",
      "Data Science in Real Life\n",
      "Materials Data Sciences and Informatics\n",
      "Computer Science:  Algorithms, Theory, and Machines\n",
      "Data Science Methodology\n",
      "Data Science Ethics\n"
     ]
    }
   ],
   "source": [
    "for i in range(0,10):\n",
    "    print(onlineCourses_JSONarr[i]['cTitle'])"
   ]
  },
  {
   "cell_type": "code",
   "execution_count": 504,
   "metadata": {
    "ExecuteTime": {
     "end_time": "2018-12-30T11:45:31.031053Z",
     "start_time": "2018-12-30T11:45:31.022052Z"
    }
   },
   "outputs": [
    {
     "name": "stdout",
     "output_type": "stream",
     "text": [
      "Concepts, Processes,\\x0band Te\n"
     ]
    },
    {
     "data": {
      "text/plain": [
       "'Concepts, Processes, and Te'"
      ]
     },
     "execution_count": 504,
     "metadata": {},
     "output_type": "execute_result"
    }
   ],
   "source": [
    "str1=str(onlineCourses_JSONarr[114]['cWeekSection'])[2850:2880]\n",
    "print(str1)\n",
    "str1=re.sub('\\\\\\\\x0b',' ',str1)\n",
    "str1"
   ]
  },
  {
   "cell_type": "markdown",
   "metadata": {},
   "source": [
    "# 2. Helper functions"
   ]
  },
  {
   "cell_type": "code",
   "execution_count": 8,
   "metadata": {
    "ExecuteTime": {
     "end_time": "2018-12-30T12:10:00.486819Z",
     "start_time": "2018-12-30T12:10:00.479818Z"
    }
   },
   "outputs": [],
   "source": [
    "def addProfessor(prof,courseId):\n",
    "    '''Check if professor exists in db, creates new professor if not and the TEACHES relationship with course'''\n",
    "    query = 'MERGE (professor:Professor {name: \\\"' + prof + '\\\"})' +\\\n",
    "            'MERGE (course:Course {tmpId: \\\"' + courseId + '\\\"})' +\\\n",
    "            'CREATE UNIQUE (professor)-[:TEACHES]->(course)'\n",
    "    graph.run(query)\n"
   ]
  },
  {
   "cell_type": "code",
   "execution_count": 9,
   "metadata": {
    "ExecuteTime": {
     "end_time": "2018-12-30T12:10:00.884756Z",
     "start_time": "2018-12-30T12:10:00.807768Z"
    }
   },
   "outputs": [],
   "source": [
    "def addLanguage(lang ,courseId):\n",
    "    '''Check if professor exists in db, creates new language if not and the LANGUAGE relationship with course'''\n",
    "    query = 'MERGE (language:Language {name: \\\"' + lang + '\\\"})' +\\\n",
    "            'MERGE (course:Course {tmpId: \\\"' + courseId + '\\\"})' +\\\n",
    "            'CREATE UNIQUE (course)-[:LANGUAGE]->(language)'\n",
    "    graph.run(query)\n",
    "                "
   ]
  },
  {
   "cell_type": "code",
   "execution_count": 10,
   "metadata": {
    "ExecuteTime": {
     "end_time": "2018-12-30T12:10:01.112721Z",
     "start_time": "2018-12-30T12:10:01.106721Z"
    }
   },
   "outputs": [],
   "source": [
    "def addCategory(cat ,courseId):\n",
    "    '''Check if professor exists in db, creates new category if not and the category relationship with course'''\n",
    "    query = 'MERGE (category:Category {number: \\\"' + cat + '\\\"})' +\\\n",
    "            'MERGE (course:Course {tmpId: \\\"' + courseId + '\\\"})' +\\\n",
    "            'CREATE UNIQUE (course)-[:IS_CATEGORY]->(category)'\n",
    "    graph.run(query)\n",
    "                "
   ]
  },
  {
   "cell_type": "code",
   "execution_count": 11,
   "metadata": {
    "ExecuteTime": {
     "end_time": "2018-12-30T12:10:02.179578Z",
     "start_time": "2018-12-30T12:10:02.175578Z"
    }
   },
   "outputs": [],
   "source": [
    "def addProvider(prov ,courseId):\n",
    "    '''Check if professor exists in db, creates new provider if not and the provider relationship with course'''\n",
    "    query = 'MERGE (provider:Provider {number: \\\"' + prov + '\\\"})' +\\\n",
    "            'MERGE (course:Course {tmpId: \\\"' + courseId + '\\\"})' +\\\n",
    "            'CREATE UNIQUE (provider)-[:PROVIDES]->(course)'\n",
    "    graph.run(query)\n",
    "                "
   ]
  },
  {
   "cell_type": "markdown",
   "metadata": {},
   "source": [
    "# 3. Connect to Neo4j DB"
   ]
  },
  {
   "cell_type": "code",
   "execution_count": 116,
   "metadata": {
    "ExecuteTime": {
     "end_time": "2019-01-01T07:37:11.696980Z",
     "start_time": "2019-01-01T07:37:11.689979Z"
    }
   },
   "outputs": [],
   "source": [
    "#connect \n",
    "from py2neo import Graph\n",
    "\n",
    "graph = Graph(\"http://localhost:7474\", user='EvaArevalo', password='yhwh123')"
   ]
  },
  {
   "cell_type": "code",
   "execution_count": 117,
   "metadata": {
    "ExecuteTime": {
     "end_time": "2019-01-01T07:37:14.399561Z",
     "start_time": "2019-01-01T07:37:13.064767Z"
    }
   },
   "outputs": [],
   "source": [
    "#clean DB\n",
    "graph.delete_all()"
   ]
  },
  {
   "cell_type": "code",
   "execution_count": 118,
   "metadata": {
    "ExecuteTime": {
     "end_time": "2019-01-01T07:37:15.536384Z",
     "start_time": "2019-01-01T07:37:14.613528Z"
    }
   },
   "outputs": [
    {
     "data": {
      "text/plain": [
       "<py2neo.database.Cursor at 0x1ff5f84d5c0>"
      ]
     },
     "execution_count": 118,
     "metadata": {},
     "output_type": "execute_result"
    }
   ],
   "source": [
    "#Create uniqueness constraints\n",
    "graph.run('CREATE CONSTRAINT ON (professor:Professor) ASSERT professor.name IS UNIQUE')\n",
    "graph.run('CREATE CONSTRAINT ON (course:Course) ASSERT course.tmpId IS UNIQUE')\n",
    "graph.run('CREATE CONSTRAINT ON (language:Language) ASSERT language.language IS UNIQUE')\n",
    "graph.run('CREATE CONSTRAINT ON (category:Category) ASSERT category.number IS UNIQUE')\n",
    "graph.run('CREATE CONSTRAINT ON (provider:Provider) ASSERT provider.name IS UNIQUE')"
   ]
  },
  {
   "cell_type": "code",
   "execution_count": 119,
   "metadata": {
    "ExecuteTime": {
     "end_time": "2019-01-01T07:37:15.697360Z",
     "start_time": "2019-01-01T07:37:15.691360Z"
    }
   },
   "outputs": [],
   "source": [
    "#drop constraints if needed\n",
    "#graph.run('DROP CONSTRAINT ON (course:Course) ASSERT course.title IS UNIQUE')"
   ]
  },
  {
   "cell_type": "code",
   "execution_count": 120,
   "metadata": {
    "ExecuteTime": {
     "end_time": "2019-01-01T07:43:18.246330Z",
     "start_time": "2019-01-01T07:37:15.875333Z"
    },
    "code_folding": [],
    "scrolled": true
   },
   "outputs": [],
   "source": [
    "#Create Nodes and relationships\n",
    "import re\n",
    "\n",
    "for course in onlineCourses_JSONarr:\n",
    "    #Create Course node\n",
    "    description = ''\n",
    "    weekSection = ''\n",
    "    photoLink = ''\n",
    "    directLink = ''\n",
    "    if 'cPhotoLink' in course and course['cPhotoLink']!=None:\n",
    "        photoLink = course['cPhotoLink']\n",
    "    if 'cDirectLink' in course and course['cDirectLink']!=None:\n",
    "        directLink = course['cDirectLink']\n",
    "    if 'cDescription' in course and course['cDescription']!=None:\n",
    "        description = re.sub('\\\"', '\\'', course['cDescription'])\n",
    "        description = re.sub('\\n\\n', ' ', description)\n",
    "        description = re.sub('\\n', ' ', description)\n",
    "    if 'cWeekSection' in course and course['cWeekSection']!=None:\n",
    "        weekSection = re.sub('\\\"', '\\'', str(course['cWeekSection']))\n",
    "        weekSection = re.sub('\\n\\n', ' ', weekSection)\n",
    "        weekSection = re.sub('\\n', ' ', weekSection)\n",
    "        weekSection = re.sub('\\\\\\\\x0b', ' ', weekSection)\n",
    "    title = re.sub('\\'', '’', course['cTitle'])\n",
    "    query = 'MERGE (course:Course {tmpId:\\\"' + str(course['tmpId']) + '\\\", ' +\\\n",
    "                                    'title:\\'' + title + '\\', ' +\\\n",
    "                                    'photoLink:\\\"' + photoLink + '\\\", ' +\\\n",
    "                                    'directLink:\\\"' + directLink + '\\\", ' +\\\n",
    "                                    'description:\\\"' + description +  '\\\", ' +\\\n",
    "                                    'weekSection:\\\"' + weekSection + '\\\"})' \n",
    "\n",
    "    graph.run(query)\n",
    "    #  'weekSection:\\\"' + weekSection + '\\\", ' +\\\n",
    "    \n",
    "    #Add relationships and other nodes\n",
    "    addLanguage(course['cLanguage'], str(course['tmpId']))\n",
    "    addProvider(course['cProvider'], str(course['tmpId']))\n",
    "    for cat in course['tmpCateg']:\n",
    "        addCategory(str(cat),str(course['tmpId']))\n",
    "    for prof in course['cAuthor']:\n",
    "        profname = re.sub('\\\"',',',prof)\n",
    "        addProfessor(profname, str(course['tmpId']))\n"
   ]
  },
  {
   "cell_type": "markdown",
   "metadata": {},
   "source": [
    "# 4. Draw graph"
   ]
  },
  {
   "cell_type": "code",
   "execution_count": 121,
   "metadata": {
    "ExecuteTime": {
     "end_time": "2019-01-01T07:43:19.224176Z",
     "start_time": "2019-01-01T07:43:18.396305Z"
    }
   },
   "outputs": [
    {
     "data": {
      "text/html": [
       "\n",
       "        <iframe\n",
       "            width=\"100%\"\n",
       "            height=\"400\"\n",
       "            src=\"figure/graph-bf4903ab-5575-4cb4-bb2f-84b1755825e1.html\"\n",
       "            frameborder=\"0\"\n",
       "            allowfullscreen\n",
       "        ></iframe>\n",
       "        "
      ],
      "text/plain": [
       "<IPython.lib.display.IFrame at 0x1ff5f84d320>"
      ]
     },
     "execution_count": 121,
     "metadata": {},
     "output_type": "execute_result"
    }
   ],
   "source": [
    "import scripts.vis\n",
    "from scripts.vis import draw\n",
    "\n",
    "options = {\"Professor\": \"name\", \"Course\": \"title\", \"Language\":\"language\", \"Category\":\"number\", \"Provider\":\"name\"}\n",
    "draw(graph, options)"
   ]
  },
  {
   "cell_type": "markdown",
   "metadata": {
    "ExecuteTime": {
     "end_time": "2018-12-30T15:15:02.335456Z",
     "start_time": "2018-12-30T15:15:02.331476Z"
    }
   },
   "source": [
    "# 5. Dump into GraphJSON format"
   ]
  },
  {
   "cell_type": "markdown",
   "metadata": {},
   "source": [
    "#json specification\n",
    "https://github.com/jsongraph/json-graph-specification"
   ]
  },
  {
   "cell_type": "code",
   "execution_count": 108,
   "metadata": {
    "ExecuteTime": {
     "end_time": "2018-12-30T16:56:50.218245Z",
     "start_time": "2018-12-30T16:56:50.203247Z"
    }
   },
   "outputs": [
    {
     "name": "stdout",
     "output_type": "stream",
     "text": [
      "[{'caption': 'IS_CATEGORY', 'source': 4, 'target': 1892}, {'caption': 'LANGUAGE', 'source': 4, 'target': 1743}, {'caption': 'IS_CATEGORY', 'source': 11, 'target': 41}, {'caption': 'LANGUAGE', 'source': 11, 'target': 1743}, {'caption': 'TEACHES', 'source': 12, 'target': 11}, {'caption': 'TEACHES', 'source': 40, 'target': 1894}, {'caption': 'IS_CATEGORY', 'source': 43, 'target': 1892}, {'caption': 'LANGUAGE', 'source': 43, 'target': 1743}, {'caption': 'TEACHES', 'source': 44, 'target': 43}, {'caption': 'IS_CATEGORY', 'source': 97, 'target': 1892}, {'caption': 'LANGUAGE', 'source': 97, 'target': 1743}, {'caption': 'TEACHES', 'source': 116, 'target': 97}, {'caption': 'IS_CATEGORY', 'source': 126, 'target': 1892}, {'caption': 'LANGUAGE', 'source': 126, 'target': 216}, {'caption': 'TEACHES', 'source': 172, 'target': 126}, {'caption': 'IS_CATEGORY', 'source': 231, 'target': 1892}, {'caption': 'LANGUAGE', 'source': 231, 'target': 1743}, {'caption': 'TEACHES', 'source': 271, 'target': 4}, {'caption': 'TEACHES', 'source': 271, 'target': 272}, {'caption': 'TEACHES', 'source': 271, 'target': 231}, {'caption': 'IS_CATEGORY', 'source': 272, 'target': 1892}, {'caption': 'LANGUAGE', 'source': 272, 'target': 1743}, {'caption': 'TEACHES', 'source': 273, 'target': 11}, {'caption': 'IS_CATEGORY', 'source': 1670, 'target': 1673}, {'caption': 'LANGUAGE', 'source': 1670, 'target': 1743}, {'caption': 'TEACHES', 'source': 1808, 'target': 1670}, {'caption': 'TEACHES', 'source': 1809, 'target': 4}, {'caption': 'TEACHES', 'source': 1809, 'target': 272}, {'caption': 'TEACHES', 'source': 1809, 'target': 231}, {'caption': 'IS_CATEGORY', 'source': 1810, 'target': 1892}, {'caption': 'LANGUAGE', 'source': 1810, 'target': 1743}, {'caption': 'TEACHES', 'source': 1811, 'target': 1810}, {'caption': 'PROVIDES', 'source': 1891, 'target': 43}, {'caption': 'PROVIDES', 'source': 1891, 'target': 1810}, {'caption': 'PROVIDES', 'source': 1891, 'target': 11}, {'caption': 'PROVIDES', 'source': 1891, 'target': 1894}, {'caption': 'PROVIDES', 'source': 1891, 'target': 4}, {'caption': 'PROVIDES', 'source': 1891, 'target': 272}, {'caption': 'PROVIDES', 'source': 1891, 'target': 97}, {'caption': 'PROVIDES', 'source': 1891, 'target': 231}, {'caption': 'PROVIDES', 'source': 1891, 'target': 126}, {'caption': 'PROVIDES', 'source': 1891, 'target': 1670}, {'caption': 'TEACHES', 'source': 1893, 'target': 4}, {'caption': 'TEACHES', 'source': 1893, 'target': 272}, {'caption': 'TEACHES', 'source': 1893, 'target': 231}, {'caption': 'IS_CATEGORY', 'source': 1894, 'target': 1892}, {'caption': 'LANGUAGE', 'source': 1894, 'target': 1743}]\n"
     ]
    }
   ],
   "source": [
    "#get nodes\n",
    "edges = []\n",
    "\n",
    "result = graph.run(\"MATCH (a)-[r]->(b) WITH collect({source: id(a),target: id(b),caption: type(r)}) AS edges RETURN edges\")\n",
    "\n",
    "for record in result:\n",
    "    edges+=record['edges']\n",
    "    \n",
    "print(edges)"
   ]
  },
  {
   "cell_type": "code",
   "execution_count": 113,
   "metadata": {
    "ExecuteTime": {
     "end_time": "2018-12-30T17:08:07.702353Z",
     "start_time": "2018-12-30T17:08:06.680491Z"
    }
   },
   "outputs": [
    {
     "name": "stdout",
     "output_type": "stream",
     "text": [
      "[{'caption': 'Data Science in Real Life', 'id': 4, 'type': 'Course'}, {'caption': 'Computer Science:  Algorithms, Theory, and Machines', 'id': 11, 'type': 'Course'}, {'caption': 'Data Science Ethics', 'id': 43, 'type': 'Course'}, {'caption': 'Command Line Tools for Genomic Data Science', 'id': 97, 'type': 'Course'}, {'caption': '用Python玩转数据 Data Processing Using Python', 'id': 126, 'type': 'Course'}, {'caption': 'Building a Data Science Team', 'id': 231, 'type': 'Course'}, {'caption': 'A Crash Course in Data Science', 'id': 272, 'type': 'Course'}, {'caption': 'Machine Learning', 'id': 1670, 'type': 'Course'}, {'caption': 'Data Science Methodology', 'id': 1810, 'type': 'Course'}, {'caption': 'Materials Data Sciences and Informatics', 'id': 1894, 'type': 'Course'}, {'caption': None, 'id': 216, 'type': 'Language'}, {'caption': None, 'id': 1743, 'type': 'Language'}, {'caption': 'Robert Sedgewick', 'id': 12, 'type': 'Professor'}, {'caption': 'Dr. Surya Kalidindi', 'id': 40, 'type': 'Professor'}, {'caption': 'H.V. Jagadish', 'id': 44, 'type': 'Professor'}, {'caption': 'Liliana Florea, PhD', 'id': 116, 'type': 'Professor'}, {'caption': 'ZHANG Li', 'id': 172, 'type': 'Professor'}, {'caption': 'Jeff Leek, PhD', 'id': 271, 'type': 'Professor'}, {'caption': 'Kevin Wayne', 'id': 273, 'type': 'Professor'}, {'caption': 'Andrew Ng', 'id': 1808, 'type': 'Professor'}, {'caption': 'Brian Caffo, PhD', 'id': 1809, 'type': 'Professor'}, {'caption': 'Alex Aklson', 'id': 1811, 'type': 'Professor'}, {'caption': 'Roger D. Peng, PhD', 'id': 1893, 'type': 'Professor'}, {'caption': None, 'id': 1891, 'type': 'Provider'}, {'caption': '', 'id': 41, 'type': 'Category'}, {'caption': '', 'id': 1673, 'type': 'Category'}, {'caption': '', 'id': 1892, 'type': 'Category'}]\n"
     ]
    }
   ],
   "source": [
    "#get edges\n",
    "nodes = []\n",
    "\n",
    "node_cursors = {}\n",
    "node_cursors['course'] = graph.run(\"MATCH (n:Course) WITH collect({id: id(n),type: labels(n)[0],caption:n.title}) AS nodes RETURN nodes\")\n",
    "node_cursors['language'] = graph.run(\"MATCH (n:Language) WITH collect({id: id(n),type: labels(n)[0],caption:n.language}) AS nodes RETURN nodes\")\n",
    "node_cursors['professor'] = graph.run(\"MATCH (n:Professor) WITH collect({id: id(n),type: labels(n)[0],caption:n.name}) AS nodes RETURN nodes\")\n",
    "node_cursors['provider'] = graph.run(\"MATCH (n:Provider) WITH collect({id: id(n),type: labels(n)[0],caption:n.name}) AS nodes RETURN nodes\")\n",
    "node_cursors['category'] =  graph.run(\"MATCH (n:Category) WITH collect({id: id(n),type: labels(n)[0],caption:''}) AS nodes RETURN nodes\")\n",
    "\n",
    "for key,cursor in node_cursors.items():\n",
    "    for record in cursor:\n",
    "        nodes+=record['nodes']\n",
    "\n",
    "print(nodes)"
   ]
  },
  {
   "cell_type": "code",
   "execution_count": 114,
   "metadata": {
    "ExecuteTime": {
     "end_time": "2018-12-30T17:08:07.775341Z",
     "start_time": "2018-12-30T17:08:07.765326Z"
    }
   },
   "outputs": [
    {
     "name": "stdout",
     "output_type": "stream",
     "text": [
      "{\"nodes\": [{\"caption\": \"Data Science in Real Life\", \"id\": 4, \"type\": \"Course\"}, {\"caption\": \"Computer Science:  Algorithms, Theory, and Machines\", \"id\": 11, \"type\": \"Course\"}, {\"caption\": \"Data Science Ethics\", \"id\": 43, \"type\": \"Course\"}, {\"caption\": \"Command Line Tools for Genomic Data Science\", \"id\": 97, \"type\": \"Course\"}, {\"caption\": \"\\u7528Python\\u73a9\\u8f6c\\u6570\\u636e Data Processing Using Python\", \"id\": 126, \"type\": \"Course\"}, {\"caption\": \"Building a Data Science Team\", \"id\": 231, \"type\": \"Course\"}, {\"caption\": \"A Crash Course in Data Science\", \"id\": 272, \"type\": \"Course\"}, {\"caption\": \"Machine Learning\", \"id\": 1670, \"type\": \"Course\"}, {\"caption\": \"Data Science Methodology\", \"id\": 1810, \"type\": \"Course\"}, {\"caption\": \"Materials Data Sciences and Informatics\", \"id\": 1894, \"type\": \"Course\"}, {\"caption\": null, \"id\": 216, \"type\": \"Language\"}, {\"caption\": null, \"id\": 1743, \"type\": \"Language\"}, {\"caption\": \"Robert Sedgewick\", \"id\": 12, \"type\": \"Professor\"}, {\"caption\": \"Dr. Surya Kalidindi\", \"id\": 40, \"type\": \"Professor\"}, {\"caption\": \"H.V. Jagadish\", \"id\": 44, \"type\": \"Professor\"}, {\"caption\": \"Liliana Florea, PhD\", \"id\": 116, \"type\": \"Professor\"}, {\"caption\": \"ZHANG Li\", \"id\": 172, \"type\": \"Professor\"}, {\"caption\": \"Jeff Leek, PhD\", \"id\": 271, \"type\": \"Professor\"}, {\"caption\": \"Kevin Wayne\", \"id\": 273, \"type\": \"Professor\"}, {\"caption\": \"Andrew Ng\", \"id\": 1808, \"type\": \"Professor\"}, {\"caption\": \"Brian Caffo, PhD\", \"id\": 1809, \"type\": \"Professor\"}, {\"caption\": \"Alex Aklson\", \"id\": 1811, \"type\": \"Professor\"}, {\"caption\": \"Roger D. Peng, PhD\", \"id\": 1893, \"type\": \"Professor\"}, {\"caption\": null, \"id\": 1891, \"type\": \"Provider\"}, {\"caption\": \"\", \"id\": 41, \"type\": \"Category\"}, {\"caption\": \"\", \"id\": 1673, \"type\": \"Category\"}, {\"caption\": \"\", \"id\": 1892, \"type\": \"Category\"}], \"edges\": [{\"caption\": \"IS_CATEGORY\", \"source\": 4, \"target\": 1892}, {\"caption\": \"LANGUAGE\", \"source\": 4, \"target\": 1743}, {\"caption\": \"IS_CATEGORY\", \"source\": 11, \"target\": 41}, {\"caption\": \"LANGUAGE\", \"source\": 11, \"target\": 1743}, {\"caption\": \"TEACHES\", \"source\": 12, \"target\": 11}, {\"caption\": \"TEACHES\", \"source\": 40, \"target\": 1894}, {\"caption\": \"IS_CATEGORY\", \"source\": 43, \"target\": 1892}, {\"caption\": \"LANGUAGE\", \"source\": 43, \"target\": 1743}, {\"caption\": \"TEACHES\", \"source\": 44, \"target\": 43}, {\"caption\": \"IS_CATEGORY\", \"source\": 97, \"target\": 1892}, {\"caption\": \"LANGUAGE\", \"source\": 97, \"target\": 1743}, {\"caption\": \"TEACHES\", \"source\": 116, \"target\": 97}, {\"caption\": \"IS_CATEGORY\", \"source\": 126, \"target\": 1892}, {\"caption\": \"LANGUAGE\", \"source\": 126, \"target\": 216}, {\"caption\": \"TEACHES\", \"source\": 172, \"target\": 126}, {\"caption\": \"IS_CATEGORY\", \"source\": 231, \"target\": 1892}, {\"caption\": \"LANGUAGE\", \"source\": 231, \"target\": 1743}, {\"caption\": \"TEACHES\", \"source\": 271, \"target\": 4}, {\"caption\": \"TEACHES\", \"source\": 271, \"target\": 272}, {\"caption\": \"TEACHES\", \"source\": 271, \"target\": 231}, {\"caption\": \"IS_CATEGORY\", \"source\": 272, \"target\": 1892}, {\"caption\": \"LANGUAGE\", \"source\": 272, \"target\": 1743}, {\"caption\": \"TEACHES\", \"source\": 273, \"target\": 11}, {\"caption\": \"IS_CATEGORY\", \"source\": 1670, \"target\": 1673}, {\"caption\": \"LANGUAGE\", \"source\": 1670, \"target\": 1743}, {\"caption\": \"TEACHES\", \"source\": 1808, \"target\": 1670}, {\"caption\": \"TEACHES\", \"source\": 1809, \"target\": 4}, {\"caption\": \"TEACHES\", \"source\": 1809, \"target\": 272}, {\"caption\": \"TEACHES\", \"source\": 1809, \"target\": 231}, {\"caption\": \"IS_CATEGORY\", \"source\": 1810, \"target\": 1892}, {\"caption\": \"LANGUAGE\", \"source\": 1810, \"target\": 1743}, {\"caption\": \"TEACHES\", \"source\": 1811, \"target\": 1810}, {\"caption\": \"PROVIDES\", \"source\": 1891, \"target\": 43}, {\"caption\": \"PROVIDES\", \"source\": 1891, \"target\": 1810}, {\"caption\": \"PROVIDES\", \"source\": 1891, \"target\": 11}, {\"caption\": \"PROVIDES\", \"source\": 1891, \"target\": 1894}, {\"caption\": \"PROVIDES\", \"source\": 1891, \"target\": 4}, {\"caption\": \"PROVIDES\", \"source\": 1891, \"target\": 272}, {\"caption\": \"PROVIDES\", \"source\": 1891, \"target\": 97}, {\"caption\": \"PROVIDES\", \"source\": 1891, \"target\": 231}, {\"caption\": \"PROVIDES\", \"source\": 1891, \"target\": 126}, {\"caption\": \"PROVIDES\", \"source\": 1891, \"target\": 1670}, {\"caption\": \"TEACHES\", \"source\": 1893, \"target\": 4}, {\"caption\": \"TEACHES\", \"source\": 1893, \"target\": 272}, {\"caption\": \"TEACHES\", \"source\": 1893, \"target\": 231}, {\"caption\": \"IS_CATEGORY\", \"source\": 1894, \"target\": 1892}, {\"caption\": \"LANGUAGE\", \"source\": 1894, \"target\": 1743}]}\n"
     ]
    }
   ],
   "source": [
    "#build graph and dump to GraphJSON\n",
    "import json\n",
    "\n",
    "node_graph = {}\n",
    "node_graph['nodes'] = nodes\n",
    "node_graph['edges'] = edges\n",
    "\n",
    "print(json.dumps(node_graph))\n",
    "\n",
    "with open(\"data/courses.json\", \"w\") as f:\n",
    "    json.dump(node_graph, f)"
   ]
  },
  {
   "cell_type": "code",
   "execution_count": null,
   "metadata": {},
   "outputs": [],
   "source": []
  }
 ],
 "metadata": {
  "kernelspec": {
   "display_name": "Python 3",
   "language": "python",
   "name": "python3"
  },
  "language_info": {
   "codemirror_mode": {
    "name": "ipython",
    "version": 3
   },
   "file_extension": ".py",
   "mimetype": "text/x-python",
   "name": "python",
   "nbconvert_exporter": "python",
   "pygments_lexer": "ipython3",
   "version": "3.7.1"
  },
  "varInspector": {
   "cols": {
    "lenName": 16,
    "lenType": 16,
    "lenVar": 40
   },
   "kernels_config": {
    "python": {
     "delete_cmd_postfix": "",
     "delete_cmd_prefix": "del ",
     "library": "var_list.py",
     "varRefreshCmd": "print(var_dic_list())"
    },
    "r": {
     "delete_cmd_postfix": ") ",
     "delete_cmd_prefix": "rm(",
     "library": "var_list.r",
     "varRefreshCmd": "cat(var_dic_list()) "
    }
   },
   "types_to_exclude": [
    "module",
    "function",
    "builtin_function_or_method",
    "instance",
    "_Feature"
   ],
   "window_display": false
  }
 },
 "nbformat": 4,
 "nbformat_minor": 2
}
