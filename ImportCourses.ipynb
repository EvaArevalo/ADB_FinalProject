{
 "cells": [
  {
   "cell_type": "markdown",
   "metadata": {},
   "source": [
    "# 1. Read JSON file"
   ]
  },
  {
   "cell_type": "code",
   "execution_count": 43,
   "metadata": {
    "ExecuteTime": {
     "end_time": "2018-12-30T04:23:36.180399Z",
     "start_time": "2018-12-30T04:23:36.115390Z"
    }
   },
   "outputs": [
    {
     "name": "stdout",
     "output_type": "stream",
     "text": [
      "826\n",
      "dict_keys(['cTitle', 'cProvider', 'cPhotoLink', 'cDirectLink', 'cDescription', 'cWeekSection', 'cAuthor', 'cLanguage', 'tmpCateg', 'tmpId'])\n"
     ]
    }
   ],
   "source": [
    "import json\n",
    "\n",
    "#Read JSON data into the datastore variable\n",
    "filename = 'online course data.json'\n",
    "with open(filename, 'r', encoding='UTF-8') as f:\n",
    "    onlineCourses_JSONarr = json.load(f)\n",
    "\n",
    "#Use the new datastore datastructure\n",
    "print(len(onlineCourses_JSONarr))\n",
    "print(onlineCourses_JSONarr[0].keys())"
   ]
  },
  {
   "cell_type": "code",
   "execution_count": 154,
   "metadata": {
    "ExecuteTime": {
     "end_time": "2018-12-30T07:25:40.331719Z",
     "start_time": "2018-12-30T07:25:40.325721Z"
    }
   },
   "outputs": [
    {
     "name": "stdout",
     "output_type": "stream",
     "text": [
      "Machine Learning\n",
      "用Python玩转数据 Data Processing Using Python\n",
      "Building a Data Science Team\n",
      "Command Line Tools for Genomic Data Science\n",
      "A Crash Course in Data Science\n",
      "Data Science in Real Life\n",
      "Materials Data Sciences and Informatics\n",
      "Computer Science:  Algorithms, Theory, and Machines\n",
      "Data Science Methodology\n",
      "Data Science Ethics\n"
     ]
    }
   ],
   "source": [
    "for i in range(0,10):\n",
    "    print(onlineCourses_JSONarr[i]['cTitle'])"
   ]
  },
  {
   "cell_type": "code",
   "execution_count": 112,
   "metadata": {
    "ExecuteTime": {
     "end_time": "2018-12-30T06:54:19.941681Z",
     "start_time": "2018-12-30T06:54:19.933684Z"
    }
   },
   "outputs": [
    {
     "data": {
      "text/plain": [
       "\"[{'name': 'Introduction', 'description': 'Welcome to Machine Learning! In this module, we introduce the core idea of teaching a computer to learn concepts using data—without being explicitly programmed. The Course Wiki is under construction. Please visit the resources tab for the most complete and up-to-date information.', 'timeCommitment': 7088953, 'id': 'aOf6j', 'lessonIds': ['GOIXz', 'URH5n', '4Jpz0'], 'slug': 'introduction'}, {'name': 'Linear Regression with One Variable', 'description': 'Linear regression predicts a real-valued output based on an input value. We discuss the application of linear regression to housing price prediction, present the notion of a cost function, and introduce the gradient descent method for learning.', 'timeCommitment': 7500147, 'id': 'tN10A', 'lessonIds': ['emCIn', '7AyTq', 'bmUPd'], 'slug': 'linear-regression-with-one-variable'}, {'name': 'Linear Algebra Review', 'description': 'This optional module provides a refresher on linear algebra concepts. Basic understanding of linear algebra is necessary for the rest of the course, especially as we begin to cover models with multiple variables.', 'timeCommitment': 5681489, 'id': 'Wvrm2', 'lessonIds': ['iVV6v', '43si5'], 'slug': 'linear-algebra-review'}, {'name': 'Linear Regression with Multiple Variables', 'description': '\\\\nWhat if your input has more than one value? In this module, we show how linear regression can be extended to accommodate multiple input features. We also discuss best practices for implementing linear regression.', 'timeCommitment': 10126324, 'id': 'vW94N', 'lessonIds': ['FF77g', 'P50Gs', 'Tv4W9', 'TFRzS', 'RqTa8'], 'slug': 'linear-regression-with-multiple-variables'}, {'name': 'Octave/Matlab Tutorial', 'description': 'This course includes programming assignments designed to help you understand how to implement the learning algorithms in practice. To complete the programming assignments, you will need to use Octave or MATLAB. This module introduces Octave/Matlab and shows you how to submit an assignment.', 'timeCommitment': 16783651, 'id': '2B0GR', 'lessonIds': ['92U9W', 'Uzjb7'], 'slug': 'octave-matlab-tutorial'}, {'name': 'Logistic Regression', 'description': 'Logistic regression is a method for classifying data into discrete outcomes. For example, we might use logistic regression to classify an email  as spam or not spam. In this module, we introduce the notion of classification, the cost function for logistic regression, and the application of logistic regression to multi-class classification.\\\\n', 'timeCommitment': 6680947, 'id': 'mgpv7', 'lessonIds': ['TFce2', 'VeGBS', 'uGwU8', 'Zqaso'], 'slug': 'logistic-regression'}, {'name': 'Regularization', 'description': 'Machine learning models need to generalize well to new examples that the model has not seen in practice. In this module, we introduce regularization, which helps prevent models from overfitting the training data. ', 'timeCommitment': 15067533, 'id': '6okke', 'lessonIds': ['9coML', 'WDwmA'], 'slug': 'regularization'}, {'name': 'Neural Networks: Representation', 'description': 'Neural networks is a model inspired by how the brain works. It is widely used today in many applications: when your phone interprets and understand your voice commands, it is likely that a neural network is helping to understand your speech; when you cash a check, the machines that automatically read the digits also use neural networks. ', 'timeCommitment': 16957305, 'id': 'mZYiz', 'lessonIds': ['DAklL', '9caoH', 'FLtiC', 'bkJWs'], 'slug': 'neural-networks-representation'}, {'name': 'Neural Networks: Learning', 'description': 'In this module, we introduce the backpropagation algorithm that is used to help learn parameters for a neural network. At the end of this module, you will be implementing your own neural network for digit recognition.\\\\n', 'timeCommitment': 18517050, 'id': 'Aah2H', 'lessonIds': ['GlCRH', '5YKzp', 'VqCHe', '1Vn1r'], 'slug': 'neural-networks-learning'}, {'name': 'Advice for Applying Machine Learning', 'description': 'Applying machine learning in practice is not always straightforward. In this module, we share best practices for applying machine learning in practice, and discuss the best ways to evaluate performance of the learned models.\\\\n', 'timeCommitment': 16934311, 'id': 'xAUWb', 'lessonIds': ['UGbrV', 'o4rfB', 'mQ8BH'], 'slug': 'advice-for-applying-machine-learning'}, {'name': 'Machine Learning System Design', 'description': 'To optimize a machine learning algorithm, you’ll need to first understand where the biggest improvements can be made. In this module, we discuss how to understand the performance of a machine learning system with multiple parts, and also how to deal with skewed data.\\\\n', 'timeCommitment': 5131994, 'id': 'FrXvB', 'lessonIds': ['ke9yA', 'fK9tz', 'qcd4g', 'dw603'], 'slug': 'machine-learning-system-design'}, {'name': 'Support Vector Machines', 'description': 'Support vector machines, or SVMs, is a machine learning algorithm for classification. We introduce the idea and intuitions behind SVMs and discuss how to use it in practice.\\\\n', 'timeCommitment': 17855171, 'id': 'SSmw6', 'lessonIds': ['CfSbF', 'JzGkl', 'pOAvc', 'pHcQW'], 'slug': 'support-vector-machines'}, {'name': 'Unsupervised Learning', 'description': 'We use unsupervised learning to build models that help us understand our data better. We discuss the k-Means algorithm for clustering that enable us to learn groupings of unlabeled data points.', 'timeCommitment': 3545675, 'id': 'kxH2P', 'lessonIds': ['dZ7cl', 'dw18q'], 'slug': 'unsupervised-learning'}, {'name': 'Dimensionality Reduction', 'description': 'In this module, we introduce Principal Components Analysis, and show how it can be used for data compression to speed up learning algorithms as well as for visualizations of complex datasets.\\\\n', 'timeCommitment': 16029936, 'id': 'vBJVZ', 'lessonIds': ['Daziu', 'wmnUG', 'YmjIf', 'lGZqW'], 'slug': 'dimensionality-reduction'}, {'name': 'Anomaly Detection', 'description': 'Given a large number of data points, we may sometimes want to figure out which ones vary significantly from the average. For example, in manufacturing, we may want to detect defects or anomalies. We show how a dataset can be modeled using a Gaussian distribution, and how the model can be used for anomaly detection.\\\\n', 'timeCommitment': 6658796, 'id': 'HjnB4', 'lessonIds': ['JOdqz', 'mzWJz', 'VTf1a', '7pc9X'], 'slug': 'anomaly-detection'}, {'name': 'Recommender Systems', 'description': 'When you buy a product online, most websites automatically recommend other products that you may like. Recommender systems look at patterns of activities between different users and different products to produce these recommendations. In this module, we introduce recommender algorithms such as the collaborative filtering algorithm and low-rank matrix factorization.', 'timeCommitment': 15486424, 'id': 'Oag3J', 'lessonIds': ['cBfLu', 'dfHrm', 'Br81G', 'gQ4Os'], 'slug': 'recommender-systems'}, {'name': 'Large Scale Machine Learning', 'description': 'Machine learning works best when there is an abundance of data to leverage for training. In this module, we discuss how to apply the machine learning algorithms with large datasets.', 'timeCommitment': 5032204, 'id': 'ctqAZ', 'lessonIds': ['Ps6Qp', 'FAdK2', '1Of05'], 'slug': 'large-scale-machine-learning'}, {'name': 'Application Example: Photo OCR', 'description': 'Identifying and recognizing objects, words, and digits in an image is a challenging task. We discuss how a pipeline can be built to tackle this problem and how to analyze and improve the performance of such a system.\\\\n', 'timeCommitment': 4595078, 'id': 'mdclX', 'lessonIds': ['URom5', 'Oqa31', 'T6CAZ'], 'slug': 'application-example-photo-ocr'}]\""
      ]
     },
     "execution_count": 112,
     "metadata": {},
     "output_type": "execute_result"
    }
   ],
   "source": [
    "onlineCourses_JSONarr[0]['cWeekSection']"
   ]
  },
  {
   "cell_type": "markdown",
   "metadata": {},
   "source": [
    "# 2. Helper functions"
   ]
  },
  {
   "cell_type": "code",
   "execution_count": 255,
   "metadata": {
    "ExecuteTime": {
     "end_time": "2018-12-30T08:22:18.336702Z",
     "start_time": "2018-12-30T08:22:18.328703Z"
    }
   },
   "outputs": [],
   "source": [
    "def addProfessor(prof,courseName):\n",
    "    '''Check if professor exists in db, creates new professor if not and the TEACHES relationship with course'''\n",
    "    query = 'MATCH(professor:Professor{name:\\''+prof+'\\'}) return count(professor)> 0 as exists'\n",
    "    data = graph.run(query)\n",
    "\n",
    "    for d in data:\n",
    "        result = d.items()[0]\n",
    "        if (result==('exists', True)):\n",
    "            #print('Prof Node ' + prof+'  already exists')\n",
    "            pass\n",
    "        else:\n",
    "            try:\n",
    "                query = 'CREATE (professor:Professor {name:\\'' + prof + '\\'})' \n",
    "                graph.run(query)\n",
    "            except:\n",
    "                print('ERROR CREATING: Professor node with name ' + prof )\n",
    "    \n",
    "        query = 'MERGE (professor:Professor {name: \\\"' + prof + '\\\"})' +\\\n",
    "                'MERGE (course:Course {title: \\\"' + courseName + '\\\"})' +\\\n",
    "                'CREATE UNIQUE (professor)-[:TEACHES]->(course)'\n",
    "        graph.run(query)\n",
    "                "
   ]
  },
  {
   "cell_type": "code",
   "execution_count": 256,
   "metadata": {
    "ExecuteTime": {
     "end_time": "2018-12-30T08:22:18.694645Z",
     "start_time": "2018-12-30T08:22:18.684646Z"
    }
   },
   "outputs": [],
   "source": [
    "def addLanguage(lang ,courseName):\n",
    "    '''Check if professor exists in db, creates new language if not and the LANGUAGE relationship with course'''\n",
    "    query = 'MATCH(language:Language{name:\\'' + lang + '\\'}) return count(language)> 0 as exists'\n",
    "    data = graph.run(query)\n",
    "\n",
    "    for d in data:\n",
    "        result = d.items()[0]\n",
    "        if (result==('exists', True)):\n",
    "            #print('Lang Node ' + lang+'  already exists')\n",
    "            pass\n",
    "        else:\n",
    "            try:\n",
    "                query = 'CREATE (language:Language {name:\\'' + lang + '\\'})' \n",
    "                graph.run(query)\n",
    "            except:\n",
    "                print('ERROR CREATING: Language node with name ' + lang )\n",
    "    \n",
    "        query = 'MERGE (language:Language {name: \\\"' + lang + '\\\"})' +\\\n",
    "                'MERGE (course:Course {title: \\\"' + courseName + '\\\"})' +\\\n",
    "                'CREATE UNIQUE (course)-[:LANGUAGE]->(language)'\n",
    "        graph.run(query)\n",
    "                "
   ]
  },
  {
   "cell_type": "code",
   "execution_count": 263,
   "metadata": {
    "ExecuteTime": {
     "end_time": "2018-12-30T08:23:44.961556Z",
     "start_time": "2018-12-30T08:23:44.953559Z"
    }
   },
   "outputs": [],
   "source": [
    "def addCategory(cat ,courseName):\n",
    "    '''Check if professor exists in db, creates new category if not and the category relationship with course'''\n",
    "    query = 'MATCH(category:Category{number:\\'' + cat + '\\'}) return count(category)> 0 as exists'\n",
    "    data = graph.run(query)\n",
    "\n",
    "    for d in data:\n",
    "        result = d.items()[0]\n",
    "        if (result==('exists', True)):\n",
    "            #print('cat Node ' + cat +'  already exists')\n",
    "            pass\n",
    "        else:\n",
    "            try:\n",
    "                query = 'CREATE (category:Category {number:\\'' + cat + '\\'})' \n",
    "                graph.run(query)\n",
    "            except:\n",
    "                print('ERROR CREATING: category node with number ' + cat )\n",
    "    \n",
    "        query = 'MERGE (category:Category {number: \\\"' + cat + '\\\"})' +\\\n",
    "                'MERGE (course:Course {title: \\\"' + courseName + '\\\"})' +\\\n",
    "                'CREATE UNIQUE (course)-[:IS_CATEGORY]->(category)'\n",
    "        graph.run(query)\n",
    "                "
   ]
  },
  {
   "cell_type": "markdown",
   "metadata": {},
   "source": [
    "# 3. Connect to Neo4j DB"
   ]
  },
  {
   "cell_type": "code",
   "execution_count": 274,
   "metadata": {
    "ExecuteTime": {
     "end_time": "2018-12-30T08:27:40.870884Z",
     "start_time": "2018-12-30T08:27:40.776897Z"
    }
   },
   "outputs": [],
   "source": [
    "#connect and clean db\n",
    "from py2neo import Graph\n",
    "\n",
    "graph = Graph(\"http://localhost:7474\", user='EvaArevalo', password='yhwh123')\n",
    "graph.delete_all()"
   ]
  },
  {
   "cell_type": "code",
   "execution_count": 271,
   "metadata": {
    "ExecuteTime": {
     "end_time": "2018-12-30T08:27:33.982670Z",
     "start_time": "2018-12-30T08:27:33.953670Z"
    }
   },
   "outputs": [
    {
     "data": {
      "text/plain": [
       "<py2neo.database.Cursor at 0x1f41b41a978>"
      ]
     },
     "execution_count": 271,
     "metadata": {},
     "output_type": "execute_result"
    }
   ],
   "source": [
    "#Create uniqueness constraints\n",
    "graph.run('CREATE CONSTRAINT ON (professor:Professor) ASSERT professor.name IS UNIQUE')\n",
    "graph.run('CREATE CONSTRAINT ON (course:Course) ASSERT course.title IS UNIQUE')\n",
    "graph.run('CREATE CONSTRAINT ON (language:Language) ASSERT language.language IS UNIQUE')\n",
    "graph.run('CREATE CONSTRAINT ON (category:Category) ASSERT category.number IS UNIQUE')\n",
    "graph.run('CREATE CONSTRAINT ON (provider:Provider) ASSERT provider.name IS UNIQUE')"
   ]
  },
  {
   "cell_type": "code",
   "execution_count": 275,
   "metadata": {
    "ExecuteTime": {
     "end_time": "2018-12-30T08:27:43.614491Z",
     "start_time": "2018-12-30T08:27:42.630613Z"
    },
    "scrolled": true
   },
   "outputs": [],
   "source": [
    "#Create Nodes\n",
    "import re\n",
    "#dict_keys\n",
    "#dict_keys(['cTitle', 'cProvider', 'cPhotoLink', 'cDirectLink', 'cDescription', 'cWeekSection', \n",
    "#'cAuthor', 'cLanguage', 'tmpCateg', 'tmpId'])\n",
    "\n",
    "for course in onlineCourses_JSONarr[0:3]:\n",
    "    #Create Course node, with properties: cTitle', 'cPhotoLink', 'cDirectLink', 'cDescription', 'cWeekSection' \n",
    "    #'tmpId' and relationships: 'cProvider',  'cAuthor', 'cLanguage', 'tmpCateg'\n",
    "    description = re.sub('\\\"','\\'',course['cDescription'])\n",
    "    weekSection = re.sub('\\\"','\\'',str(course['cWeekSection']))\n",
    "    query = 'CREATE (course:Course {title:\\'' + course['cTitle'] + '\\', ' +\\\n",
    "                                    'photoLink:\\\"' + course['cPhotoLink'] + '\\\", ' +\\\n",
    "                                    'directLink:\\\"' + course['cDirectLink'] + '\\\", ' +\\\n",
    "                                    'weekSection:\\\"' + weekSection + '\\\", ' +\\\n",
    "                                    'description:\\\"' + description + '\\\"})' \n",
    "    #'weekSection:\\\"' + str(course['cWeekSection']) + '\\\", ' +\\\n",
    "    graph.run(query)\n",
    "    \n",
    "    #Add relationships and other nodes\n",
    "    addLanguage(course['cLanguage'], course['cTitle'])\n",
    "    for cat in course['tmpCateg']:\n",
    "        addCategory(str(cat),course['cTitle'])\n",
    "    for prof in course['cAuthor']:\n",
    "        addProfessor(prof, course['cTitle'])\n"
   ]
  },
  {
   "cell_type": "markdown",
   "metadata": {},
   "source": [
    "# 3. Draw graph"
   ]
  },
  {
   "cell_type": "code",
   "execution_count": 276,
   "metadata": {
    "ExecuteTime": {
     "end_time": "2018-12-30T08:27:43.886416Z",
     "start_time": "2018-12-30T08:27:43.714445Z"
    }
   },
   "outputs": [
    {
     "data": {
      "text/html": [
       "\n",
       "        <iframe\n",
       "            width=\"100%\"\n",
       "            height=\"400\"\n",
       "            src=\"figure/graph-fdbceb7f-7169-4784-abcb-a990d1ec5659.html\"\n",
       "            frameborder=\"0\"\n",
       "            allowfullscreen\n",
       "        ></iframe>\n",
       "        "
      ],
      "text/plain": [
       "<IPython.lib.display.IFrame at 0x1f41b382240>"
      ]
     },
     "execution_count": 276,
     "metadata": {},
     "output_type": "execute_result"
    }
   ],
   "source": [
    "import scripts.vis\n",
    "from scripts.vis import draw\n",
    "\n",
    "options = {\"Professor\": \"name\", \"Course\": \"title\", \"Language\":\"language\", \"Category\":\"number\"}\n",
    "draw(graph, options)"
   ]
  },
  {
   "cell_type": "code",
   "execution_count": null,
   "metadata": {},
   "outputs": [],
   "source": []
  }
 ],
 "metadata": {
  "kernelspec": {
   "display_name": "Python 3",
   "language": "python",
   "name": "python3"
  },
  "language_info": {
   "codemirror_mode": {
    "name": "ipython",
    "version": 3
   },
   "file_extension": ".py",
   "mimetype": "text/x-python",
   "name": "python",
   "nbconvert_exporter": "python",
   "pygments_lexer": "ipython3",
   "version": "3.7.1"
  },
  "varInspector": {
   "cols": {
    "lenName": 16,
    "lenType": 16,
    "lenVar": 40
   },
   "kernels_config": {
    "python": {
     "delete_cmd_postfix": "",
     "delete_cmd_prefix": "del ",
     "library": "var_list.py",
     "varRefreshCmd": "print(var_dic_list())"
    },
    "r": {
     "delete_cmd_postfix": ") ",
     "delete_cmd_prefix": "rm(",
     "library": "var_list.r",
     "varRefreshCmd": "cat(var_dic_list()) "
    }
   },
   "types_to_exclude": [
    "module",
    "function",
    "builtin_function_or_method",
    "instance",
    "_Feature"
   ],
   "window_display": false
  }
 },
 "nbformat": 4,
 "nbformat_minor": 2
}
