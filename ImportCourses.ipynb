{
 "cells": [
  {
   "cell_type": "markdown",
   "metadata": {},
   "source": [
    "# 1. Read JSON file"
   ]
  },
  {
   "cell_type": "code",
   "execution_count": 43,
   "metadata": {
    "ExecuteTime": {
     "end_time": "2018-12-30T04:23:36.180399Z",
     "start_time": "2018-12-30T04:23:36.115390Z"
    }
   },
   "outputs": [
    {
     "name": "stdout",
     "output_type": "stream",
     "text": [
      "826\n",
      "dict_keys(['cTitle', 'cProvider', 'cPhotoLink', 'cDirectLink', 'cDescription', 'cWeekSection', 'cAuthor', 'cLanguage', 'tmpCateg', 'tmpId'])\n"
     ]
    }
   ],
   "source": [
    "import json\n",
    "\n",
    "#Read JSON data into the datastore variable\n",
    "filename = 'online course data.json'\n",
    "with open(filename, 'r', encoding='UTF-8') as f:\n",
    "    onlineCourses_JSONarr = json.load(f)\n",
    "\n",
    "#Use the new datastore datastructure\n",
    "print(len(onlineCourses_JSONarr))\n",
    "print(onlineCourses_JSONarr[0].keys())"
   ]
  },
  {
   "cell_type": "code",
   "execution_count": 154,
   "metadata": {
    "ExecuteTime": {
     "end_time": "2018-12-30T07:25:40.331719Z",
     "start_time": "2018-12-30T07:25:40.325721Z"
    }
   },
   "outputs": [
    {
     "name": "stdout",
     "output_type": "stream",
     "text": [
      "Machine Learning\n",
      "用Python玩转数据 Data Processing Using Python\n",
      "Building a Data Science Team\n",
      "Command Line Tools for Genomic Data Science\n",
      "A Crash Course in Data Science\n",
      "Data Science in Real Life\n",
      "Materials Data Sciences and Informatics\n",
      "Computer Science:  Algorithms, Theory, and Machines\n",
      "Data Science Methodology\n",
      "Data Science Ethics\n"
     ]
    }
   ],
   "source": [
    "for i in range(0,10):\n",
    "    print(onlineCourses_JSONarr[i]['cTitle'])"
   ]
  },
  {
   "cell_type": "code",
   "execution_count": 295,
   "metadata": {
    "ExecuteTime": {
     "end_time": "2018-12-30T08:51:20.649064Z",
     "start_time": "2018-12-30T08:51:20.642064Z"
    }
   },
   "outputs": [
    {
     "data": {
      "text/plain": [
       "\"[{'name': 'Data Warehouse Concepts and Architectures', 'description': 'Module 1 introduces the course and covers concepts that provide a context for the remainder of this course. In the first two lessons, you’ll understand the objectives for the course and know what topics and assignments to expect. In the remaining lessons, you will learn about historical reasons for development of data warehouse technology, learning effects, business architectures, maturity models, project management issues, market trends, and employment opportunities. This informational module will ensure that you have the background for success in later modules that emphasize details and hands-on skills.You should also read about the software requirements in the lesson at the end of module 1. I recommend that you try to install the software this week before assignments begin in week 2.', 'timeCommitment': 13813000, 'id': 'HfGNt', 'lessonIds': ['Qrhdz', 'N9fJu', '92FTQ', 'q4vBJ', 'xJgms', 'gX8XP', 'akxlZ', 'aNJaW', 'UcPqK', 'oE7Pd'], 'slug': 'data-warehouse-concepts-and-architectures'}, {'name': 'Multidimensional Data Representation and Manipulation', 'description': 'Now that you have the informational context for data warehouse development, you’ll start using data warehouse tools! In module 2, you will learn about the multidimensional representation of a data warehouse used by business analysts. You’ll apply what you’ve learned in practice and graded problems using Pivot4J, an open source tool for manipulating pivot tables. At the end of this module, you will have solid background to communicate and assist business analysts who use a multidimensional representation of a data warehouse.', 'timeCommitment': 17415000, 'id': 'CjzJr', 'lessonIds': ['HAG3m', 'cEJ8w', 'pJUEG', '13xo8', 'MV13l', 'SYRuV', 'gkjde', 'WBGjl'], 'slug': 'multidimensional-data-representation-and-manipulation'}, {'name': 'Data Warehouse Design Practices and Methodologies', 'description': 'This module emphasizes data warehouse design skills. Now that you understand the multidimensional representation used by business analysts, you are ready to learn about data warehouse design using a relational database. In practice, the multidimensional representation used by business analysts must be derived from a data warehouse design using a relational DBMS.You will learn about design patterns, summarizability problems, and design methodologies. You will apply these concepts to mini case studies about data warehouse design. At the end of the module, you will have created data warehouse designs based on data sources and business needs of hypothetical organizations.', 'timeCommitment': 15999000, 'id': 'KAZcP', 'lessonIds': ['ybtHF', 'YmJSR', 'H6HpR', 'N4U2d', 'd1vwO', 'SWtS6', '5iUlW'], 'slug': 'data-warehouse-design-practices-and-methodologies'}, {'name': 'Data Integration Concepts, Processes,\\\\x0band Techniques ', 'description': 'Module 4 extends your background about data warehouse development. After learning about schema design concepts and practices, you are ready to learn about data integration processing to populate and refresh a data warehouse. The informational background in module 4 covers concepts about data sources, data integration processes, and techniques for pattern matching and inexact matching of text. Module 4 provides a context for the software skills that you will learn in module 5. ', 'timeCommitment': 8852000, 'id': 'UxNvu', 'lessonIds': ['mmXd5', 'c1tai', 'LUjLw', 'PDrh2', 'ZdVCT', 'Qn5cg', 'kZrpA'], 'slug': 'data-integration-concepts-processes-and-techniques'}, {'name': 'Architectures, Features, and \\\\x0bDetails of Data Integration Tools', 'description': 'Module 5 extends your background about data integration from module 4. Module 5 covers architectures, features, and details about data integration tools to complement the conceptual background in module 4. You will learn about the features of two open source data integration tools, Talend Open Studio and Pentaho Data Integration. You will use Pentaho Data Integration in guided tutorial in preparation for a graded assignment involving Pentaho Data Integration.', 'timeCommitment': 18891000, 'id': 'RgDr3', 'lessonIds': ['UMsU3', '1BmEU', 'HAYh3', 'ebOB4', 'wr9WA', 'ijd3A'], 'slug': 'architectures-features-and-details-of-data-integration-tools'}]\""
      ]
     },
     "execution_count": 295,
     "metadata": {},
     "output_type": "execute_result"
    }
   ],
   "source": [
    "str(onlineCourses_JSONarr[114]['cWeekSection'])"
   ]
  },
  {
   "cell_type": "code",
   "execution_count": 311,
   "metadata": {
    "ExecuteTime": {
     "end_time": "2018-12-30T09:02:42.394145Z",
     "start_time": "2018-12-30T09:02:42.386145Z"
    }
   },
   "outputs": [
    {
     "data": {
      "text/plain": [
       "[{'name': 'Data Warehouse Concepts and Architectures',\n",
       "  'description': 'Module 1 introduces the course and covers concepts that provide a context for the remainder of this course. In the first two lessons, you’ll understand the objectives for the course and know what topics and assignments to expect. In the remaining lessons, you will learn about historical reasons for development of data warehouse technology, learning effects, business architectures, maturity models, project management issues, market trends, and employment opportunities. This informational module will ensure that you have the background for success in later modules that emphasize details and hands-on skills.You should also read about the software requirements in the lesson at the end of module 1. I recommend that you try to install the software this week before assignments begin in week 2.',\n",
       "  'timeCommitment': 13813000,\n",
       "  'id': 'HfGNt',\n",
       "  'lessonIds': ['Qrhdz',\n",
       "   'N9fJu',\n",
       "   '92FTQ',\n",
       "   'q4vBJ',\n",
       "   'xJgms',\n",
       "   'gX8XP',\n",
       "   'akxlZ',\n",
       "   'aNJaW',\n",
       "   'UcPqK',\n",
       "   'oE7Pd'],\n",
       "  'slug': 'data-warehouse-concepts-and-architectures'},\n",
       " {'name': 'Multidimensional Data Representation and Manipulation',\n",
       "  'description': 'Now that you have the informational context for data warehouse development, you’ll start using data warehouse tools! In module 2, you will learn about the multidimensional representation of a data warehouse used by business analysts. You’ll apply what you’ve learned in practice and graded problems using Pivot4J, an open source tool for manipulating pivot tables. At the end of this module, you will have solid background to communicate and assist business analysts who use a multidimensional representation of a data warehouse.',\n",
       "  'timeCommitment': 17415000,\n",
       "  'id': 'CjzJr',\n",
       "  'lessonIds': ['HAG3m',\n",
       "   'cEJ8w',\n",
       "   'pJUEG',\n",
       "   '13xo8',\n",
       "   'MV13l',\n",
       "   'SYRuV',\n",
       "   'gkjde',\n",
       "   'WBGjl'],\n",
       "  'slug': 'multidimensional-data-representation-and-manipulation'},\n",
       " {'name': 'Data Warehouse Design Practices and Methodologies',\n",
       "  'description': 'This module emphasizes data warehouse design skills. Now that you understand the multidimensional representation used by business analysts, you are ready to learn about data warehouse design using a relational database. In practice, the multidimensional representation used by business analysts must be derived from a data warehouse design using a relational DBMS.You will learn about design patterns, summarizability problems, and design methodologies. You will apply these concepts to mini case studies about data warehouse design. At the end of the module, you will have created data warehouse designs based on data sources and business needs of hypothetical organizations.',\n",
       "  'timeCommitment': 15999000,\n",
       "  'id': 'KAZcP',\n",
       "  'lessonIds': ['ybtHF', 'YmJSR', 'H6HpR', 'N4U2d', 'd1vwO', 'SWtS6', '5iUlW'],\n",
       "  'slug': 'data-warehouse-design-practices-and-methodologies'},\n",
       " {'name': 'Data Integration Concepts, Processes,\\x0band Techniques ',\n",
       "  'description': 'Module 4 extends your background about data warehouse development. After learning about schema design concepts and practices, you are ready to learn about data integration processing to populate and refresh a data warehouse. The informational background in module 4 covers concepts about data sources, data integration processes, and techniques for pattern matching and inexact matching of text. Module 4 provides a context for the software skills that you will learn in module 5. ',\n",
       "  'timeCommitment': 8852000,\n",
       "  'id': 'UxNvu',\n",
       "  'lessonIds': ['mmXd5', 'c1tai', 'LUjLw', 'PDrh2', 'ZdVCT', 'Qn5cg', 'kZrpA'],\n",
       "  'slug': 'data-integration-concepts-processes-and-techniques'},\n",
       " {'name': 'Architectures, Features, and \\x0bDetails of Data Integration Tools',\n",
       "  'description': 'Module 5 extends your background about data integration from module 4. Module 5 covers architectures, features, and details about data integration tools to complement the conceptual background in module 4. You will learn about the features of two open source data integration tools, Talend Open Studio and Pentaho Data Integration. You will use Pentaho Data Integration in guided tutorial in preparation for a graded assignment involving Pentaho Data Integration.',\n",
       "  'timeCommitment': 18891000,\n",
       "  'id': 'RgDr3',\n",
       "  'lessonIds': ['UMsU3', '1BmEU', 'HAYh3', 'ebOB4', 'wr9WA', 'ijd3A'],\n",
       "  'slug': 'architectures-features-and-details-of-data-integration-tools'}]"
      ]
     },
     "execution_count": 311,
     "metadata": {},
     "output_type": "execute_result"
    }
   ],
   "source": [
    "str1=onlineCourses_JSONarr[114]['cWeekSection']\n",
    "#str1=re.sub('\\n\\n',' ',str1)\n",
    "#str1=re.sub('\\n',' ',str1)\n",
    "str1"
   ]
  },
  {
   "cell_type": "markdown",
   "metadata": {},
   "source": [
    "# 2. Helper functions"
   ]
  },
  {
   "cell_type": "code",
   "execution_count": 327,
   "metadata": {
    "ExecuteTime": {
     "end_time": "2018-12-30T09:20:39.426713Z",
     "start_time": "2018-12-30T09:20:39.420714Z"
    }
   },
   "outputs": [],
   "source": [
    "def addProfessor(prof,courseName):\n",
    "    '''Check if professor exists in db, creates new professor if not and the TEACHES relationship with course'''\n",
    "    query = 'MERGE (professor:Professor {name: \\\"' + prof + '\\\"})' +\\\n",
    "            'MERGE (course:Course {title: \\\"' + courseName + '\\\"})' +\\\n",
    "            'CREATE UNIQUE (professor)-[:TEACHES]->(course)'\n",
    "    graph.run(query)\n"
   ]
  },
  {
   "cell_type": "code",
   "execution_count": 328,
   "metadata": {
    "ExecuteTime": {
     "end_time": "2018-12-30T09:20:39.889665Z",
     "start_time": "2018-12-30T09:20:39.883673Z"
    }
   },
   "outputs": [],
   "source": [
    "def addLanguage(lang ,courseName):\n",
    "    '''Check if professor exists in db, creates new language if not and the LANGUAGE relationship with course'''\n",
    "    query = 'MERGE (language:Language {name: \\\"' + lang + '\\\"})' +\\\n",
    "            'MERGE (course:Course {title: \\\"' + courseName + '\\\"})' +\\\n",
    "            'CREATE UNIQUE (course)-[:LANGUAGE]->(language)'\n",
    "    graph.run(query)\n",
    "                "
   ]
  },
  {
   "cell_type": "code",
   "execution_count": 329,
   "metadata": {
    "ExecuteTime": {
     "end_time": "2018-12-30T09:20:40.452640Z",
     "start_time": "2018-12-30T09:20:40.266671Z"
    }
   },
   "outputs": [],
   "source": [
    "def addCategory(cat ,courseName):\n",
    "    '''Check if professor exists in db, creates new category if not and the category relationship with course'''\n",
    "    query = 'MERGE (category:Category {number: \\\"' + cat + '\\\"})' +\\\n",
    "            'MERGE (course:Course {title: \\\"' + courseName + '\\\"})' +\\\n",
    "            'CREATE UNIQUE (course)-[:IS_CATEGORY]->(category)'\n",
    "    graph.run(query)\n",
    "                "
   ]
  },
  {
   "cell_type": "code",
   "execution_count": 330,
   "metadata": {
    "ExecuteTime": {
     "end_time": "2018-12-30T09:20:40.679608Z",
     "start_time": "2018-12-30T09:20:40.675629Z"
    }
   },
   "outputs": [],
   "source": [
    "def addProvider(prov ,courseName):\n",
    "    '''Check if professor exists in db, creates new provider if not and the provider relationship with course'''\n",
    "    query = 'MERGE (provider:Provider {number: \\\"' + prov + '\\\"})' +\\\n",
    "            'MERGE (course:Course {title: \\\"' + courseName + '\\\"})' +\\\n",
    "            'CREATE UNIQUE (provider)-[:PROVIDES]->(course)'\n",
    "    graph.run(query)\n",
    "                "
   ]
  },
  {
   "cell_type": "markdown",
   "metadata": {},
   "source": [
    "# 3. Connect to Neo4j DB"
   ]
  },
  {
   "cell_type": "code",
   "execution_count": 331,
   "metadata": {
    "ExecuteTime": {
     "end_time": "2018-12-30T09:20:43.086234Z",
     "start_time": "2018-12-30T09:20:41.842427Z"
    }
   },
   "outputs": [],
   "source": [
    "#connect and clean db\n",
    "from py2neo import Graph\n",
    "\n",
    "graph = Graph(\"http://localhost:7474\", user='EvaArevalo', password='yhwh123')\n",
    "graph.delete_all()"
   ]
  },
  {
   "cell_type": "code",
   "execution_count": 332,
   "metadata": {
    "ExecuteTime": {
     "end_time": "2018-12-30T09:20:43.229213Z",
     "start_time": "2018-12-30T09:20:43.204215Z"
    }
   },
   "outputs": [
    {
     "data": {
      "text/plain": [
       "<py2neo.database.Cursor at 0x1f41b465358>"
      ]
     },
     "execution_count": 332,
     "metadata": {},
     "output_type": "execute_result"
    }
   ],
   "source": [
    "#Create uniqueness constraints\n",
    "graph.run('CREATE CONSTRAINT ON (professor:Professor) ASSERT professor.name IS UNIQUE')\n",
    "graph.run('CREATE CONSTRAINT ON (course:Course) ASSERT course.tmpId IS UNIQUE')\n",
    "graph.run('CREATE CONSTRAINT ON (language:Language) ASSERT language.language IS UNIQUE')\n",
    "graph.run('CREATE CONSTRAINT ON (category:Category) ASSERT category.number IS UNIQUE')\n",
    "graph.run('CREATE CONSTRAINT ON (provider:Provider) ASSERT provider.name IS UNIQUE')"
   ]
  },
  {
   "cell_type": "code",
   "execution_count": null,
   "metadata": {
    "ExecuteTime": {
     "start_time": "2018-12-30T09:20:43.048Z"
    },
    "code_folding": [],
    "scrolled": true
   },
   "outputs": [],
   "source": [
    "#Create Nodes and relationships\n",
    "import re\n",
    "\n",
    "for course in onlineCourses_JSONarr:\n",
    "    #Create Course node\n",
    "    description = re.sub('\\\"', '\\'', course['cDescription'])\n",
    "    weekSection = re.sub('\\\"', '\\'', str(course['cWeekSection']))\n",
    "    weekSection = re.sub('\\n\\n', ' ', weekSection)\n",
    "    weekSection = re.sub('\\n', ' ', weekSection)\n",
    "    query = 'CREATE (course:Course {tmpId:\\\"' + str(course['tmpId']) + '\\\", ' +\\\n",
    "                                    'title:\\'' + course['cTitle'] + '\\', ' +\\\n",
    "                                    'photoLink:\\\"' + course['cPhotoLink'] + '\\\", ' +\\\n",
    "                                    'directLink:\\\"' + course['cDirectLink'] + '\\\", ' +\\\n",
    "                                    'description:\\\"' + description + '\\\"})' \n",
    "\n",
    "    graph.run(query)\n",
    "    #  'weekSection:\\\"' + weekSection + '\\\", ' +\\\n",
    "    \n",
    "    #Add relationships and other nodes\n",
    "    addLanguage(course['cLanguage'], course['cTitle'])\n",
    "    addProvider(course['cProvider'], course['cTitle'])\n",
    "    for cat in course['tmpCateg']:\n",
    "        addCategory(str(cat),course['cTitle'])\n",
    "    for prof in course['cAuthor']:\n",
    "        profname = re.sub('\\\"',',',prof)\n",
    "        addProfessor(profname, course['cTitle'])\n"
   ]
  },
  {
   "cell_type": "markdown",
   "metadata": {},
   "source": [
    "# 3. Draw graph"
   ]
  },
  {
   "cell_type": "code",
   "execution_count": 276,
   "metadata": {
    "ExecuteTime": {
     "end_time": "2018-12-30T08:27:43.886416Z",
     "start_time": "2018-12-30T08:27:43.714445Z"
    }
   },
   "outputs": [
    {
     "data": {
      "text/html": [
       "\n",
       "        <iframe\n",
       "            width=\"100%\"\n",
       "            height=\"400\"\n",
       "            src=\"figure/graph-fdbceb7f-7169-4784-abcb-a990d1ec5659.html\"\n",
       "            frameborder=\"0\"\n",
       "            allowfullscreen\n",
       "        ></iframe>\n",
       "        "
      ],
      "text/plain": [
       "<IPython.lib.display.IFrame at 0x1f41b382240>"
      ]
     },
     "execution_count": 276,
     "metadata": {},
     "output_type": "execute_result"
    }
   ],
   "source": [
    "import scripts.vis\n",
    "from scripts.vis import draw\n",
    "\n",
    "options = {\"Professor\": \"name\", \"Course\": \"title\", \"Language\":\"language\", \"Category\":\"number\"}\n",
    "draw(graph, options)"
   ]
  },
  {
   "cell_type": "code",
   "execution_count": null,
   "metadata": {},
   "outputs": [],
   "source": []
  }
 ],
 "metadata": {
  "kernelspec": {
   "display_name": "Python 3",
   "language": "python",
   "name": "python3"
  },
  "language_info": {
   "codemirror_mode": {
    "name": "ipython",
    "version": 3
   },
   "file_extension": ".py",
   "mimetype": "text/x-python",
   "name": "python",
   "nbconvert_exporter": "python",
   "pygments_lexer": "ipython3",
   "version": "3.7.1"
  },
  "varInspector": {
   "cols": {
    "lenName": 16,
    "lenType": 16,
    "lenVar": 40
   },
   "kernels_config": {
    "python": {
     "delete_cmd_postfix": "",
     "delete_cmd_prefix": "del ",
     "library": "var_list.py",
     "varRefreshCmd": "print(var_dic_list())"
    },
    "r": {
     "delete_cmd_postfix": ") ",
     "delete_cmd_prefix": "rm(",
     "library": "var_list.r",
     "varRefreshCmd": "cat(var_dic_list()) "
    }
   },
   "types_to_exclude": [
    "module",
    "function",
    "builtin_function_or_method",
    "instance",
    "_Feature"
   ],
   "window_display": false
  }
 },
 "nbformat": 4,
 "nbformat_minor": 2
}
