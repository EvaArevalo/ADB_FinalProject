{
 "cells": [
  {
   "cell_type": "markdown",
   "metadata": {},
   "source": [
    "# 1. Read JSON file"
   ]
  },
  {
   "cell_type": "code",
   "execution_count": 43,
   "metadata": {
    "ExecuteTime": {
     "end_time": "2018-12-30T04:23:36.180399Z",
     "start_time": "2018-12-30T04:23:36.115390Z"
    }
   },
   "outputs": [
    {
     "name": "stdout",
     "output_type": "stream",
     "text": [
      "826\n",
      "dict_keys(['cTitle', 'cProvider', 'cPhotoLink', 'cDirectLink', 'cDescription', 'cWeekSection', 'cAuthor', 'cLanguage', 'tmpCateg', 'tmpId'])\n"
     ]
    }
   ],
   "source": [
    "import json\n",
    "\n",
    "#Read JSON data into the datastore variable\n",
    "filename = 'online course data.json'\n",
    "with open(filename, 'r', encoding='UTF-8') as f:\n",
    "    onlineCourses_JSONarr = json.load(f)\n",
    "\n",
    "#Use the new datastore datastructure\n",
    "print(len(onlineCourses_JSONarr))\n",
    "print(onlineCourses_JSONarr[0].keys())"
   ]
  },
  {
   "cell_type": "code",
   "execution_count": 154,
   "metadata": {
    "ExecuteTime": {
     "end_time": "2018-12-30T07:25:40.331719Z",
     "start_time": "2018-12-30T07:25:40.325721Z"
    }
   },
   "outputs": [
    {
     "name": "stdout",
     "output_type": "stream",
     "text": [
      "Machine Learning\n",
      "用Python玩转数据 Data Processing Using Python\n",
      "Building a Data Science Team\n",
      "Command Line Tools for Genomic Data Science\n",
      "A Crash Course in Data Science\n",
      "Data Science in Real Life\n",
      "Materials Data Sciences and Informatics\n",
      "Computer Science:  Algorithms, Theory, and Machines\n",
      "Data Science Methodology\n",
      "Data Science Ethics\n"
     ]
    }
   ],
   "source": [
    "for i in range(0,10):\n",
    "    print(onlineCourses_JSONarr[i]['cTitle'])"
   ]
  },
  {
   "cell_type": "code",
   "execution_count": 504,
   "metadata": {
    "ExecuteTime": {
     "end_time": "2018-12-30T11:45:31.031053Z",
     "start_time": "2018-12-30T11:45:31.022052Z"
    }
   },
   "outputs": [
    {
     "name": "stdout",
     "output_type": "stream",
     "text": [
      "Concepts, Processes,\\x0band Te\n"
     ]
    },
    {
     "data": {
      "text/plain": [
       "'Concepts, Processes, and Te'"
      ]
     },
     "execution_count": 504,
     "metadata": {},
     "output_type": "execute_result"
    }
   ],
   "source": [
    "str1=str(onlineCourses_JSONarr[114]['cWeekSection'])[2850:2880]\n",
    "print(str1)\n",
    "str1=re.sub('\\\\\\\\x0b',' ',str1)\n",
    "str1"
   ]
  },
  {
   "cell_type": "markdown",
   "metadata": {},
   "source": [
    "# 2. Helper functions"
   ]
  },
  {
   "cell_type": "code",
   "execution_count": 393,
   "metadata": {
    "ExecuteTime": {
     "end_time": "2018-12-30T10:22:32.900343Z",
     "start_time": "2018-12-30T10:22:32.896345Z"
    }
   },
   "outputs": [],
   "source": [
    "def addProfessor(prof,courseId):\n",
    "    '''Check if professor exists in db, creates new professor if not and the TEACHES relationship with course'''\n",
    "    query = 'MERGE (professor:Professor {name: \\\"' + prof + '\\\"})' +\\\n",
    "            'MERGE (course:Course {tmpId: \\\"' + courseId + '\\\"})' +\\\n",
    "            'CREATE UNIQUE (professor)-[:TEACHES]->(course)'\n",
    "    graph.run(query)\n"
   ]
  },
  {
   "cell_type": "code",
   "execution_count": 394,
   "metadata": {
    "ExecuteTime": {
     "end_time": "2018-12-30T10:22:33.185300Z",
     "start_time": "2018-12-30T10:22:33.178300Z"
    }
   },
   "outputs": [],
   "source": [
    "def addLanguage(lang ,courseId):\n",
    "    '''Check if professor exists in db, creates new language if not and the LANGUAGE relationship with course'''\n",
    "    query = 'MERGE (language:Language {name: \\\"' + lang + '\\\"})' +\\\n",
    "            'MERGE (course:Course {tmpId: \\\"' + courseId + '\\\"})' +\\\n",
    "            'CREATE UNIQUE (course)-[:LANGUAGE]->(language)'\n",
    "    graph.run(query)\n",
    "                "
   ]
  },
  {
   "cell_type": "code",
   "execution_count": 395,
   "metadata": {
    "ExecuteTime": {
     "end_time": "2018-12-30T10:22:33.443262Z",
     "start_time": "2018-12-30T10:22:33.437260Z"
    }
   },
   "outputs": [],
   "source": [
    "def addCategory(cat ,courseId):\n",
    "    '''Check if professor exists in db, creates new category if not and the category relationship with course'''\n",
    "    query = 'MERGE (category:Category {number: \\\"' + cat + '\\\"})' +\\\n",
    "            'MERGE (course:Course {tmpId: \\\"' + courseId + '\\\"})' +\\\n",
    "            'CREATE UNIQUE (course)-[:IS_CATEGORY]->(category)'\n",
    "    graph.run(query)\n",
    "                "
   ]
  },
  {
   "cell_type": "code",
   "execution_count": 396,
   "metadata": {
    "ExecuteTime": {
     "end_time": "2018-12-30T10:22:33.770210Z",
     "start_time": "2018-12-30T10:22:33.764211Z"
    }
   },
   "outputs": [],
   "source": [
    "def addProvider(prov ,courseId):\n",
    "    '''Check if professor exists in db, creates new provider if not and the provider relationship with course'''\n",
    "    query = 'MERGE (provider:Provider {number: \\\"' + prov + '\\\"})' +\\\n",
    "            'MERGE (course:Course {tmpId: \\\"' + courseId + '\\\"})' +\\\n",
    "            'CREATE UNIQUE (provider)-[:PROVIDES]->(course)'\n",
    "    graph.run(query)\n",
    "                "
   ]
  },
  {
   "cell_type": "markdown",
   "metadata": {},
   "source": [
    "# 3. Connect to Neo4j DB"
   ]
  },
  {
   "cell_type": "code",
   "execution_count": 510,
   "metadata": {
    "ExecuteTime": {
     "end_time": "2018-12-30T11:45:58.610584Z",
     "start_time": "2018-12-30T11:45:58.465538Z"
    }
   },
   "outputs": [],
   "source": [
    "#connect and clean db\n",
    "from py2neo import Graph\n",
    "\n",
    "graph = Graph(\"http://localhost:7474\", user='EvaArevalo', password='yhwh123')\n",
    "graph.delete_all()"
   ]
  },
  {
   "cell_type": "code",
   "execution_count": 507,
   "metadata": {
    "ExecuteTime": {
     "end_time": "2018-12-30T11:45:48.776731Z",
     "start_time": "2018-12-30T11:45:48.749731Z"
    }
   },
   "outputs": [
    {
     "data": {
      "text/plain": [
       "<py2neo.database.Cursor at 0x1f41b554d68>"
      ]
     },
     "execution_count": 507,
     "metadata": {},
     "output_type": "execute_result"
    }
   ],
   "source": [
    "#Create uniqueness constraints\n",
    "graph.run('CREATE CONSTRAINT ON (professor:Professor) ASSERT professor.name IS UNIQUE')\n",
    "graph.run('CREATE CONSTRAINT ON (course:Course) ASSERT course.tmpId IS UNIQUE')\n",
    "graph.run('CREATE CONSTRAINT ON (language:Language) ASSERT language.language IS UNIQUE')\n",
    "graph.run('CREATE CONSTRAINT ON (category:Category) ASSERT category.number IS UNIQUE')\n",
    "graph.run('CREATE CONSTRAINT ON (provider:Provider) ASSERT provider.name IS UNIQUE')"
   ]
  },
  {
   "cell_type": "code",
   "execution_count": 511,
   "metadata": {
    "ExecuteTime": {
     "end_time": "2018-12-30T11:46:06.935728Z",
     "start_time": "2018-12-30T11:46:06.932728Z"
    }
   },
   "outputs": [],
   "source": [
    "#drop constraints if needed\n",
    "#graph.run('DROP CONSTRAINT ON (course:Course) ASSERT course.title IS UNIQUE')"
   ]
  },
  {
   "cell_type": "code",
   "execution_count": 512,
   "metadata": {
    "ExecuteTime": {
     "end_time": "2018-12-30T11:51:08.514205Z",
     "start_time": "2018-12-30T11:46:07.204686Z"
    },
    "code_folding": [],
    "scrolled": true
   },
   "outputs": [],
   "source": [
    "#Create Nodes and relationships\n",
    "import re\n",
    "\n",
    "for course in onlineCourses_JSONarr:\n",
    "    #Create Course node\n",
    "    description = ''\n",
    "    weekSection = ''\n",
    "    photoLink = ''\n",
    "    directLink = ''\n",
    "    if 'cPhotoLink' in course and course['cPhotoLink']!=None:\n",
    "        photoLink = course['cPhotoLink']\n",
    "    if 'cDirectLink' in course and course['cDirectLink']!=None:\n",
    "        directLink = course['cDirectLink']\n",
    "    if 'cDescription' in course and course['cDescription']!=None:\n",
    "        description = re.sub('\\\"', '\\'', course['cDescription'])\n",
    "        description = re.sub('\\n\\n', ' ', description)\n",
    "        description = re.sub('\\n', ' ', description)\n",
    "    if 'cWeekSection' in course and course['cWeekSection']!=None:\n",
    "        weekSection = re.sub('\\\"', '\\'', str(course['cWeekSection']))\n",
    "        weekSection = re.sub('\\n\\n', ' ', weekSection)\n",
    "        weekSection = re.sub('\\n', ' ', weekSection)\n",
    "        weekSection = re.sub('\\\\\\\\x0b', ' ', weekSection)\n",
    "    title = re.sub('\\'', '’', course['cTitle'])\n",
    "    query = 'CREATE (course:Course {tmpId:\\\"' + str(course['tmpId']) + '\\\", ' +\\\n",
    "                                    'title:\\'' + title + '\\', ' +\\\n",
    "                                    'photoLink:\\\"' + photoLink + '\\\", ' +\\\n",
    "                                    'directLink:\\\"' + directLink + '\\\", ' +\\\n",
    "                                    'description:\\\"' + description +  '\\\", ' +\\\n",
    "                                    'weekSection:\\\"' + weekSection + '\\\"})' \n",
    "\n",
    "    graph.run(query)\n",
    "    #  'weekSection:\\\"' + weekSection + '\\\", ' +\\\n",
    "    \n",
    "    #Add relationships and other nodes\n",
    "    addLanguage(course['cLanguage'], str(course['tmpId']))\n",
    "    addProvider(course['cProvider'], str(course['tmpId']))\n",
    "    for cat in course['tmpCateg']:\n",
    "        addCategory(str(cat),str(course['tmpId']))\n",
    "    for prof in course['cAuthor']:\n",
    "        profname = re.sub('\\\"',',',prof)\n",
    "        addProfessor(profname, str(course['tmpId']))\n"
   ]
  },
  {
   "cell_type": "markdown",
   "metadata": {},
   "source": [
    "# 4. Draw graph"
   ]
  },
  {
   "cell_type": "code",
   "execution_count": null,
   "metadata": {
    "ExecuteTime": {
     "start_time": "2018-12-30T11:46:10.690Z"
    }
   },
   "outputs": [],
   "source": [
    "import scripts.vis\n",
    "from scripts.vis import draw\n",
    "\n",
    "options = {\"Professor\": \"name\", \"Course\": \"title\", \"Language\":\"language\", \"Category\":\"number\"}\n",
    "draw(graph, options)"
   ]
  },
  {
   "cell_type": "code",
   "execution_count": null,
   "metadata": {},
   "outputs": [],
   "source": []
  }
 ],
 "metadata": {
  "kernelspec": {
   "display_name": "Python 3",
   "language": "python",
   "name": "python3"
  },
  "language_info": {
   "codemirror_mode": {
    "name": "ipython",
    "version": 3
   },
   "file_extension": ".py",
   "mimetype": "text/x-python",
   "name": "python",
   "nbconvert_exporter": "python",
   "pygments_lexer": "ipython3",
   "version": "3.7.1"
  },
  "varInspector": {
   "cols": {
    "lenName": 16,
    "lenType": 16,
    "lenVar": 40
   },
   "kernels_config": {
    "python": {
     "delete_cmd_postfix": "",
     "delete_cmd_prefix": "del ",
     "library": "var_list.py",
     "varRefreshCmd": "print(var_dic_list())"
    },
    "r": {
     "delete_cmd_postfix": ") ",
     "delete_cmd_prefix": "rm(",
     "library": "var_list.r",
     "varRefreshCmd": "cat(var_dic_list()) "
    }
   },
   "types_to_exclude": [
    "module",
    "function",
    "builtin_function_or_method",
    "instance",
    "_Feature"
   ],
   "window_display": false
  }
 },
 "nbformat": 4,
 "nbformat_minor": 2
}
