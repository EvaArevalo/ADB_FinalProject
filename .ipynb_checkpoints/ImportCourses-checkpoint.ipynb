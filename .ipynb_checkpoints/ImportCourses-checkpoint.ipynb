{
 "cells": [
  {
   "cell_type": "markdown",
   "metadata": {},
   "source": [
    "# 1. Read JSON file"
   ]
  },
  {
   "cell_type": "code",
   "execution_count": 43,
   "metadata": {
    "ExecuteTime": {
     "end_time": "2018-12-30T04:23:36.180399Z",
     "start_time": "2018-12-30T04:23:36.115390Z"
    }
   },
   "outputs": [
    {
     "name": "stdout",
     "output_type": "stream",
     "text": [
      "826\n",
      "dict_keys(['cTitle', 'cProvider', 'cPhotoLink', 'cDirectLink', 'cDescription', 'cWeekSection', 'cAuthor', 'cLanguage', 'tmpCateg', 'tmpId'])\n"
     ]
    }
   ],
   "source": [
    "import json\n",
    "\n",
    "#Read JSON data into the datastore variable\n",
    "filename = 'online course data.json'\n",
    "with open(filename, 'r', encoding='UTF-8') as f:\n",
    "    onlineCourses_JSONarr = json.load(f)\n",
    "\n",
    "#Use the new datastore datastructure\n",
    "print(len(onlineCourses_JSONarr))\n",
    "print(onlineCourses_JSONarr[0].keys())"
   ]
  },
  {
   "cell_type": "code",
   "execution_count": 154,
   "metadata": {
    "ExecuteTime": {
     "end_time": "2018-12-30T07:25:40.331719Z",
     "start_time": "2018-12-30T07:25:40.325721Z"
    }
   },
   "outputs": [
    {
     "name": "stdout",
     "output_type": "stream",
     "text": [
      "Machine Learning\n",
      "用Python玩转数据 Data Processing Using Python\n",
      "Building a Data Science Team\n",
      "Command Line Tools for Genomic Data Science\n",
      "A Crash Course in Data Science\n",
      "Data Science in Real Life\n",
      "Materials Data Sciences and Informatics\n",
      "Computer Science:  Algorithms, Theory, and Machines\n",
      "Data Science Methodology\n",
      "Data Science Ethics\n"
     ]
    }
   ],
   "source": [
    "for i in range(0,10):\n",
    "    print(onlineCourses_JSONarr[i]['cTitle'])"
   ]
  },
  {
   "cell_type": "code",
   "execution_count": 311,
   "metadata": {
    "ExecuteTime": {
     "end_time": "2018-12-30T09:02:42.394145Z",
     "start_time": "2018-12-30T09:02:42.386145Z"
    }
   },
   "outputs": [
    {
     "data": {
      "text/plain": [
       "[{'name': 'Data Warehouse Concepts and Architectures',\n",
       "  'description': 'Module 1 introduces the course and covers concepts that provide a context for the remainder of this course. In the first two lessons, you’ll understand the objectives for the course and know what topics and assignments to expect. In the remaining lessons, you will learn about historical reasons for development of data warehouse technology, learning effects, business architectures, maturity models, project management issues, market trends, and employment opportunities. This informational module will ensure that you have the background for success in later modules that emphasize details and hands-on skills.You should also read about the software requirements in the lesson at the end of module 1. I recommend that you try to install the software this week before assignments begin in week 2.',\n",
       "  'timeCommitment': 13813000,\n",
       "  'id': 'HfGNt',\n",
       "  'lessonIds': ['Qrhdz',\n",
       "   'N9fJu',\n",
       "   '92FTQ',\n",
       "   'q4vBJ',\n",
       "   'xJgms',\n",
       "   'gX8XP',\n",
       "   'akxlZ',\n",
       "   'aNJaW',\n",
       "   'UcPqK',\n",
       "   'oE7Pd'],\n",
       "  'slug': 'data-warehouse-concepts-and-architectures'},\n",
       " {'name': 'Multidimensional Data Representation and Manipulation',\n",
       "  'description': 'Now that you have the informational context for data warehouse development, you’ll start using data warehouse tools! In module 2, you will learn about the multidimensional representation of a data warehouse used by business analysts. You’ll apply what you’ve learned in practice and graded problems using Pivot4J, an open source tool for manipulating pivot tables. At the end of this module, you will have solid background to communicate and assist business analysts who use a multidimensional representation of a data warehouse.',\n",
       "  'timeCommitment': 17415000,\n",
       "  'id': 'CjzJr',\n",
       "  'lessonIds': ['HAG3m',\n",
       "   'cEJ8w',\n",
       "   'pJUEG',\n",
       "   '13xo8',\n",
       "   'MV13l',\n",
       "   'SYRuV',\n",
       "   'gkjde',\n",
       "   'WBGjl'],\n",
       "  'slug': 'multidimensional-data-representation-and-manipulation'},\n",
       " {'name': 'Data Warehouse Design Practices and Methodologies',\n",
       "  'description': 'This module emphasizes data warehouse design skills. Now that you understand the multidimensional representation used by business analysts, you are ready to learn about data warehouse design using a relational database. In practice, the multidimensional representation used by business analysts must be derived from a data warehouse design using a relational DBMS.You will learn about design patterns, summarizability problems, and design methodologies. You will apply these concepts to mini case studies about data warehouse design. At the end of the module, you will have created data warehouse designs based on data sources and business needs of hypothetical organizations.',\n",
       "  'timeCommitment': 15999000,\n",
       "  'id': 'KAZcP',\n",
       "  'lessonIds': ['ybtHF', 'YmJSR', 'H6HpR', 'N4U2d', 'd1vwO', 'SWtS6', '5iUlW'],\n",
       "  'slug': 'data-warehouse-design-practices-and-methodologies'},\n",
       " {'name': 'Data Integration Concepts, Processes,\\x0band Techniques ',\n",
       "  'description': 'Module 4 extends your background about data warehouse development. After learning about schema design concepts and practices, you are ready to learn about data integration processing to populate and refresh a data warehouse. The informational background in module 4 covers concepts about data sources, data integration processes, and techniques for pattern matching and inexact matching of text. Module 4 provides a context for the software skills that you will learn in module 5. ',\n",
       "  'timeCommitment': 8852000,\n",
       "  'id': 'UxNvu',\n",
       "  'lessonIds': ['mmXd5', 'c1tai', 'LUjLw', 'PDrh2', 'ZdVCT', 'Qn5cg', 'kZrpA'],\n",
       "  'slug': 'data-integration-concepts-processes-and-techniques'},\n",
       " {'name': 'Architectures, Features, and \\x0bDetails of Data Integration Tools',\n",
       "  'description': 'Module 5 extends your background about data integration from module 4. Module 5 covers architectures, features, and details about data integration tools to complement the conceptual background in module 4. You will learn about the features of two open source data integration tools, Talend Open Studio and Pentaho Data Integration. You will use Pentaho Data Integration in guided tutorial in preparation for a graded assignment involving Pentaho Data Integration.',\n",
       "  'timeCommitment': 18891000,\n",
       "  'id': 'RgDr3',\n",
       "  'lessonIds': ['UMsU3', '1BmEU', 'HAYh3', 'ebOB4', 'wr9WA', 'ijd3A'],\n",
       "  'slug': 'architectures-features-and-details-of-data-integration-tools'}]"
      ]
     },
     "execution_count": 311,
     "metadata": {},
     "output_type": "execute_result"
    }
   ],
   "source": [
    "str1=onlineCourses_JSONarr[114]['cWeekSection']\n",
    "#str1=re.sub('\\n\\n',' ',str1)\n",
    "#str1=re.sub('\\n',' ',str1)\n",
    "str1"
   ]
  },
  {
   "cell_type": "code",
   "execution_count": 413,
   "metadata": {
    "ExecuteTime": {
     "end_time": "2018-12-30T10:30:05.670876Z",
     "start_time": "2018-12-30T10:30:05.663877Z"
    }
   },
   "outputs": [
    {
     "data": {
      "text/plain": [
       "\">>> By enrolling in this course you agree to the End User License Agreement as set out in the FAQ.  Once enrolled you can access the license in the Resources area <<<\\n\\nThe Internet of Things (IoT) is an area of rapid growth and opportunity. Technical innovations in networks, sensors and applications, coupled with the advent of 'smart machines' have resulted in a huge diversity of devices generating all kinds of structured and unstructured data that needs to be processed somewhere.  Collecting and understanding that data, combining it with other sources of information and putting it to good  use can be achieved by using connectivity, analytical and cognitive services now available on the cloud, allowing development and deployment of solutions to be achieved faster and more efficiently than ever before.\\n\\nThis course is an entry level introduction to developing and deploying solutions for the Internet of Things. It will focus on capturing data from a trusted device and sending the data to a cloud platform where it can be exploited by the many services available. You will explore all the steps required to create a basic IoT solution using a popular device, the Raspberry Pi, and a trial version of the cloud-based IBM Watson IoT Platform. \\n\\nWhat you will learn: \\nQuickly create applications that leverage connectivity and analytics as part of an integrated IoT platform.  Use Node-RED, an open-source visual application development environment, on both the device and the cloud.  Create a basic IoT solution by leveraging pre-built blocks of code that abstracts and speeds the development process. Use APIs to access the platform and explore the different connectivity options for various devices, gateways and applications. Explore options to ensure your solution makes best use of the captured data. \\n \\nWhat technology is required to complete the course?  \\nThe programming assignments require you to have a Raspberry Pi device - any model of Raspberry Pi with a 40 pin header. The course also uses the SenseHAT extension board, whilst it is preferable to have a SenseHat there is a simulator provided if you can't get a SenseHAT.  \\n\\nYou will need internet connectivity to download software, connect to the platform, develop and deploy your IoT solution.\\n\\nYour Rasberry Pi will need the latest Rasbian Jessie OS. This OS will be on a Micro SD Card. The recommended size of the SD card is 8GB but 4GB will do. Note that the learner kit comes with a preconfigured SD card.\\n\\nIn order to setup the Micro SD card, you will need a computer with either a windows, apple or Linux OS. Since most computer do not have a micro SD port, you will need a Micro SD adapter or USB Micro SD card adapter. Your computer will also be used when working on the platform.\\n\\nTo work on your Raspberry Pi, you will need an HDMI monitor or TV to work as the display for the Raspberry Pi (DVI monitor will also work). To connect the monitor to the Raspberry Pi you will need an HDMI cable (or a DVI to HDMI cable).\\nYour Raspberry Pi needs a way to connect to the internet; either an Ethernet cable for connecting to the Router, or a USB WiFi dongle if you have wireless connectivity. Note that the Raspberry Pi 3 includes built-in WiFi\\nA USB Keyboard and mouse.\\n\\nYour Raspberry Pi will also needs a 5V micro USB power supply i(This may be a phone charger for example)\\nThere is an IoT Learner kit available from element14 which includes the Raspberry Pi, a pre-flashed SD card, a case and power supply : https://www.element14.com/community/docs/DOC-82034/l/element14-iot-learner-kit \\n\\nWhat prerequisite skills are required ?\\nThis is an entry level course, but does assume you have basic programming skills. The assignments set use both Python and JavaScript programming languages, so some basic skill in these languages is required. No previous experience with IBM Bluemix or the IBM Watson IoT Platform is required.\\n\\nWhat additional resources do I need for this course? \\nThe Server side code for the assignments will use the IBM Cloud platform, so you will need to sign up for a free account on that platform.\\n\\nIf you choose to take this course and earn the Coursera course certificate, you will also earn an IBM digital badge.  To find out more about IBM digital badges follow the link ibm.biz/badging.\""
      ]
     },
     "execution_count": 413,
     "metadata": {},
     "output_type": "execute_result"
    }
   ],
   "source": [
    "onlineCourses[226]['cDescription']"
   ]
  },
  {
   "cell_type": "markdown",
   "metadata": {},
   "source": [
    "# 2. Helper functions"
   ]
  },
  {
   "cell_type": "code",
   "execution_count": 393,
   "metadata": {
    "ExecuteTime": {
     "end_time": "2018-12-30T10:22:32.900343Z",
     "start_time": "2018-12-30T10:22:32.896345Z"
    }
   },
   "outputs": [],
   "source": [
    "def addProfessor(prof,courseId):\n",
    "    '''Check if professor exists in db, creates new professor if not and the TEACHES relationship with course'''\n",
    "    query = 'MERGE (professor:Professor {name: \\\"' + prof + '\\\"})' +\\\n",
    "            'MERGE (course:Course {tmpId: \\\"' + courseId + '\\\"})' +\\\n",
    "            'CREATE UNIQUE (professor)-[:TEACHES]->(course)'\n",
    "    graph.run(query)\n"
   ]
  },
  {
   "cell_type": "code",
   "execution_count": 394,
   "metadata": {
    "ExecuteTime": {
     "end_time": "2018-12-30T10:22:33.185300Z",
     "start_time": "2018-12-30T10:22:33.178300Z"
    }
   },
   "outputs": [],
   "source": [
    "def addLanguage(lang ,courseId):\n",
    "    '''Check if professor exists in db, creates new language if not and the LANGUAGE relationship with course'''\n",
    "    query = 'MERGE (language:Language {name: \\\"' + lang + '\\\"})' +\\\n",
    "            'MERGE (course:Course {tmpId: \\\"' + courseId + '\\\"})' +\\\n",
    "            'CREATE UNIQUE (course)-[:LANGUAGE]->(language)'\n",
    "    graph.run(query)\n",
    "                "
   ]
  },
  {
   "cell_type": "code",
   "execution_count": 395,
   "metadata": {
    "ExecuteTime": {
     "end_time": "2018-12-30T10:22:33.443262Z",
     "start_time": "2018-12-30T10:22:33.437260Z"
    }
   },
   "outputs": [],
   "source": [
    "def addCategory(cat ,courseId):\n",
    "    '''Check if professor exists in db, creates new category if not and the category relationship with course'''\n",
    "    query = 'MERGE (category:Category {number: \\\"' + cat + '\\\"})' +\\\n",
    "            'MERGE (course:Course {tmpId: \\\"' + courseId + '\\\"})' +\\\n",
    "            'CREATE UNIQUE (course)-[:IS_CATEGORY]->(category)'\n",
    "    graph.run(query)\n",
    "                "
   ]
  },
  {
   "cell_type": "code",
   "execution_count": 396,
   "metadata": {
    "ExecuteTime": {
     "end_time": "2018-12-30T10:22:33.770210Z",
     "start_time": "2018-12-30T10:22:33.764211Z"
    }
   },
   "outputs": [],
   "source": [
    "def addProvider(prov ,courseId):\n",
    "    '''Check if professor exists in db, creates new provider if not and the provider relationship with course'''\n",
    "    query = 'MERGE (provider:Provider {number: \\\"' + prov + '\\\"})' +\\\n",
    "            'MERGE (course:Course {tmpId: \\\"' + courseId + '\\\"})' +\\\n",
    "            'CREATE UNIQUE (provider)-[:PROVIDES]->(course)'\n",
    "    graph.run(query)\n",
    "                "
   ]
  },
  {
   "cell_type": "markdown",
   "metadata": {},
   "source": [
    "# 3. Connect to Neo4j DB"
   ]
  },
  {
   "cell_type": "code",
   "execution_count": 409,
   "metadata": {
    "ExecuteTime": {
     "end_time": "2018-12-30T10:27:43.510759Z",
     "start_time": "2018-12-30T10:27:43.463783Z"
    }
   },
   "outputs": [],
   "source": [
    "#connect and clean db\n",
    "from py2neo import Graph\n",
    "\n",
    "graph = Graph(\"http://localhost:7474\", user='EvaArevalo', password='yhwh123')\n",
    "graph.delete_all()"
   ]
  },
  {
   "cell_type": "code",
   "execution_count": 410,
   "metadata": {
    "ExecuteTime": {
     "end_time": "2018-12-30T10:27:43.686730Z",
     "start_time": "2018-12-30T10:27:43.663733Z"
    }
   },
   "outputs": [
    {
     "data": {
      "text/plain": [
       "<py2neo.database.Cursor at 0x1f41b3d1f60>"
      ]
     },
     "execution_count": 410,
     "metadata": {},
     "output_type": "execute_result"
    }
   ],
   "source": [
    "#Create uniqueness constraints\n",
    "graph.run('CREATE CONSTRAINT ON (professor:Professor) ASSERT professor.name IS UNIQUE')\n",
    "graph.run('CREATE CONSTRAINT ON (course:Course) ASSERT course.tmpId IS UNIQUE')\n",
    "graph.run('CREATE CONSTRAINT ON (language:Language) ASSERT language.language IS UNIQUE')\n",
    "graph.run('CREATE CONSTRAINT ON (category:Category) ASSERT category.number IS UNIQUE')\n",
    "graph.run('CREATE CONSTRAINT ON (provider:Provider) ASSERT provider.name IS UNIQUE')"
   ]
  },
  {
   "cell_type": "code",
   "execution_count": 411,
   "metadata": {
    "ExecuteTime": {
     "end_time": "2018-12-30T10:27:43.858705Z",
     "start_time": "2018-12-30T10:27:43.855708Z"
    }
   },
   "outputs": [],
   "source": [
    "#drop constraints if needed\n",
    "#graph.run('DROP CONSTRAINT ON (course:Course) ASSERT course.title IS UNIQUE')"
   ]
  },
  {
   "cell_type": "code",
   "execution_count": 412,
   "metadata": {
    "ExecuteTime": {
     "end_time": "2018-12-30T10:28:46.444208Z",
     "start_time": "2018-12-30T10:27:44.895543Z"
    },
    "code_folding": [],
    "scrolled": true
   },
   "outputs": [
    {
     "ename": "CypherSyntaxError",
     "evalue": "Invalid input ' ': expected 't/T' (line 1, column 57 (offset: 56))\r\n\"CREATE (course:Course {tmpId:\"226\", title:'A developer's guide to the Internet of Things (IoT)', photoLink:\"https://d3njjcbhbojbot.cloudfront.net/api/utilities/v1/imageproxy/https://coursera-course-photos.s3.amazonaws.com/5b/388f10065c11e6958e7b7f4c6a2563/Watson-IoT-thumbnail.jpg\", directLink:\"https://www.coursera.org/learn/developer-iot\", description:\">>> By enrolling in this course you agree to the End User License Agreement as set out in the FAQ.  Once enrolled you can access the license in the Resources area <<< The Internet of Things (IoT) is an area of rapid growth and opportunity. Technical innovations in networks, sensors and applications, coupled with the advent of 'smart machines' have resulted in a huge diversity of devices generating all kinds of structured and unstructured data that needs to be processed somewhere.  Collecting and understanding that data, combining it with other sources of information and putting it to good  use can be achieved by using connectivity, analytical and cognitive services now available on the cloud, allowing development and deployment of solutions to be achieved faster and more efficiently than ever before. This course is an entry level introduction to developing and deploying solutions for the Internet of Things. It will focus on capturing data from a trusted device and sending the data to a cloud platform where it can be exploited by the many services available. You will explore all the steps required to create a basic IoT solution using a popular device, the Raspberry Pi, and a trial version of the cloud-based IBM Watson IoT Platform.  What you will learn:  Quickly create applications that leverage connectivity and analytics as part of an integrated IoT platform.  Use Node-RED, an open-source visual application development environment, on both the device and the cloud.  Create a basic IoT solution by leveraging pre-built blocks of code that abstracts and speeds the development process. Use APIs to access the platform and explore the different connectivity options for various devices, gateways and applications. Explore options to ensure your solution makes best use of the captured data.    What technology is required to complete the course?   The programming assignments require you to have a Raspberry Pi device - any model of Raspberry Pi with a 40 pin header. The course also uses the SenseHAT extension board, whilst it is preferable to have a SenseHat there is a simulator provided if you can't get a SenseHAT.   You will need internet connectivity to download software, connect to the platform, develop and deploy your IoT solution. Your Rasberry Pi will need the latest Rasbian Jessie OS. This OS will be on a Micro SD Card. The recommended size of the SD card is 8GB but 4GB will do. Note that the learner kit comes with a preconfigured SD card. In order to setup the Micro SD card, you will need a computer with either a windows, apple or Linux OS. Since most computer do not have a micro SD port, you will need a Micro SD adapter or USB Micro SD card adapter. Your computer will also be used when working on the platform. To work on your Raspberry Pi, you will need an HDMI monitor or TV to work as the display for the Raspberry Pi (DVI monitor will also work). To connect the monitor to the Raspberry Pi you will need an HDMI cable (or a DVI to HDMI cable). Your Raspberry Pi needs a way to connect to the internet; either an Ethernet cable for connecting to the Router, or a USB WiFi dongle if you have wireless connectivity. Note that the Raspberry Pi 3 includes built-in WiFi A USB Keyboard and mouse. Your Raspberry Pi will also needs a 5V micro USB power supply i(This may be a phone charger for example) There is an IoT Learner kit available from element14 which includes the Raspberry Pi, a pre-flashed SD card, a case and power supply : https://www.element14.com/community/docs/DOC-82034/l/element14-iot-learner-kit  What prerequisite skills are required ? This is an entry level course, but does assume you have basic programming skills. The assignments set use both Python and JavaScript programming languages, so some basic skill in these languages is required. No previous experience with IBM Bluemix or the IBM Watson IoT Platform is required. What additional resources do I need for this course?  The Server side code for the assignments will use the IBM Cloud platform, so you will need to sign up for a free account on that platform. If you choose to take this course and earn the Coursera course certificate, you will also earn an IBM digital badge.  To find out more about IBM digital badges follow the link ibm.biz/badging.\"})\"\r\n                                                         ^",
     "output_type": "error",
     "traceback": [
      "\u001b[1;31m---------------------------------------------------------------------\u001b[0m",
      "\u001b[1;31mCypherSyntaxError\u001b[0m                   Traceback (most recent call last)",
      "\u001b[1;32m<ipython-input-412-f59759715ebe>\u001b[0m in \u001b[0;36m<module>\u001b[1;34m()\u001b[0m\n\u001b[0;32m     12\u001b[0m     \u001b[0mquery\u001b[0m \u001b[1;33m=\u001b[0m \u001b[1;34m'CREATE (course:Course {tmpId:\\\"'\u001b[0m \u001b[1;33m+\u001b[0m \u001b[0mstr\u001b[0m\u001b[1;33m(\u001b[0m\u001b[0mcourse\u001b[0m\u001b[1;33m[\u001b[0m\u001b[1;34m'tmpId'\u001b[0m\u001b[1;33m]\u001b[0m\u001b[1;33m)\u001b[0m \u001b[1;33m+\u001b[0m \u001b[1;34m'\\\", '\u001b[0m \u001b[1;33m+\u001b[0m                                    \u001b[1;34m'title:\\''\u001b[0m \u001b[1;33m+\u001b[0m \u001b[0mcourse\u001b[0m\u001b[1;33m[\u001b[0m\u001b[1;34m'cTitle'\u001b[0m\u001b[1;33m]\u001b[0m \u001b[1;33m+\u001b[0m \u001b[1;34m'\\', '\u001b[0m \u001b[1;33m+\u001b[0m                                    \u001b[1;34m'photoLink:\\\"'\u001b[0m \u001b[1;33m+\u001b[0m \u001b[0mcourse\u001b[0m\u001b[1;33m[\u001b[0m\u001b[1;34m'cPhotoLink'\u001b[0m\u001b[1;33m]\u001b[0m \u001b[1;33m+\u001b[0m \u001b[1;34m'\\\", '\u001b[0m \u001b[1;33m+\u001b[0m                                    \u001b[1;34m'directLink:\\\"'\u001b[0m \u001b[1;33m+\u001b[0m \u001b[0mcourse\u001b[0m\u001b[1;33m[\u001b[0m\u001b[1;34m'cDirectLink'\u001b[0m\u001b[1;33m]\u001b[0m \u001b[1;33m+\u001b[0m \u001b[1;34m'\\\", '\u001b[0m \u001b[1;33m+\u001b[0m                                    \u001b[1;34m'description:\\\"'\u001b[0m \u001b[1;33m+\u001b[0m \u001b[0mdescription\u001b[0m \u001b[1;33m+\u001b[0m \u001b[1;34m'\\\"})'\u001b[0m\u001b[1;33m\u001b[0m\u001b[1;33m\u001b[0m\u001b[0m\n\u001b[0;32m     13\u001b[0m \u001b[1;33m\u001b[0m\u001b[0m\n\u001b[1;32m---> 14\u001b[1;33m     \u001b[0mgraph\u001b[0m\u001b[1;33m.\u001b[0m\u001b[0mrun\u001b[0m\u001b[1;33m(\u001b[0m\u001b[0mquery\u001b[0m\u001b[1;33m)\u001b[0m\u001b[1;33m\u001b[0m\u001b[1;33m\u001b[0m\u001b[0m\n\u001b[0m\u001b[0;32m     15\u001b[0m     \u001b[1;31m#  'weekSection:\\\"' + weekSection + '\\\", ' +\\\u001b[0m\u001b[1;33m\u001b[0m\u001b[1;33m\u001b[0m\u001b[1;33m\u001b[0m\u001b[0m\n\u001b[0;32m     16\u001b[0m \u001b[1;33m\u001b[0m\u001b[0m\n",
      "\u001b[1;32m~\\AppData\\Local\\conda\\conda\\envs\\dmenv\\lib\\site-packages\\py2neo\\database.py\u001b[0m in \u001b[0;36mrun\u001b[1;34m(self, cypher, parameters, **kwparameters)\u001b[0m\n\u001b[0;32m    496\u001b[0m         \u001b[1;33m:\u001b[0m\u001b[1;32mreturn\u001b[0m\u001b[1;33m:\u001b[0m\u001b[1;33m\u001b[0m\u001b[1;33m\u001b[0m\u001b[0m\n\u001b[0;32m    497\u001b[0m         \"\"\"\n\u001b[1;32m--> 498\u001b[1;33m         \u001b[1;32mreturn\u001b[0m \u001b[0mself\u001b[0m\u001b[1;33m.\u001b[0m\u001b[0mbegin\u001b[0m\u001b[1;33m(\u001b[0m\u001b[0mautocommit\u001b[0m\u001b[1;33m=\u001b[0m\u001b[1;32mTrue\u001b[0m\u001b[1;33m)\u001b[0m\u001b[1;33m.\u001b[0m\u001b[0mrun\u001b[0m\u001b[1;33m(\u001b[0m\u001b[0mcypher\u001b[0m\u001b[1;33m,\u001b[0m \u001b[0mparameters\u001b[0m\u001b[1;33m,\u001b[0m \u001b[1;33m**\u001b[0m\u001b[0mkwparameters\u001b[0m\u001b[1;33m)\u001b[0m\u001b[1;33m\u001b[0m\u001b[1;33m\u001b[0m\u001b[0m\n\u001b[0m\u001b[0;32m    499\u001b[0m \u001b[1;33m\u001b[0m\u001b[0m\n\u001b[0;32m    500\u001b[0m     \u001b[1;32mdef\u001b[0m \u001b[0mseparate\u001b[0m\u001b[1;33m(\u001b[0m\u001b[0mself\u001b[0m\u001b[1;33m,\u001b[0m \u001b[0msubgraph\u001b[0m\u001b[1;33m)\u001b[0m\u001b[1;33m:\u001b[0m\u001b[1;33m\u001b[0m\u001b[1;33m\u001b[0m\u001b[0m\n",
      "\u001b[1;32m~\\AppData\\Local\\conda\\conda\\envs\\dmenv\\lib\\site-packages\\py2neo\\database.py\u001b[0m in \u001b[0;36mrun\u001b[1;34m(self, cypher, parameters, **kwparameters)\u001b[0m\n\u001b[0;32m    866\u001b[0m         \u001b[1;32mfinally\u001b[0m\u001b[1;33m:\u001b[0m\u001b[1;33m\u001b[0m\u001b[1;33m\u001b[0m\u001b[0m\n\u001b[0;32m    867\u001b[0m             \u001b[1;32mif\u001b[0m \u001b[1;32mnot\u001b[0m \u001b[0mself\u001b[0m\u001b[1;33m.\u001b[0m\u001b[0mtransaction\u001b[0m\u001b[1;33m:\u001b[0m\u001b[1;33m\u001b[0m\u001b[1;33m\u001b[0m\u001b[0m\n\u001b[1;32m--> 868\u001b[1;33m                 \u001b[0mself\u001b[0m\u001b[1;33m.\u001b[0m\u001b[0mfinish\u001b[0m\u001b[1;33m(\u001b[0m\u001b[1;33m)\u001b[0m\u001b[1;33m\u001b[0m\u001b[1;33m\u001b[0m\u001b[0m\n\u001b[0m\u001b[0;32m    869\u001b[0m \u001b[1;33m\u001b[0m\u001b[0m\n\u001b[0;32m    870\u001b[0m     \u001b[1;32mdef\u001b[0m \u001b[0mprocess\u001b[0m\u001b[1;33m(\u001b[0m\u001b[0mself\u001b[0m\u001b[1;33m)\u001b[0m\u001b[1;33m:\u001b[0m\u001b[1;33m\u001b[0m\u001b[1;33m\u001b[0m\u001b[0m\n",
      "\u001b[1;32m~\\AppData\\Local\\conda\\conda\\envs\\dmenv\\lib\\site-packages\\py2neo\\database.py\u001b[0m in \u001b[0;36mfinish\u001b[1;34m(self)\u001b[0m\n\u001b[0;32m    875\u001b[0m \u001b[1;33m\u001b[0m\u001b[0m\n\u001b[0;32m    876\u001b[0m     \u001b[1;32mdef\u001b[0m \u001b[0mfinish\u001b[0m\u001b[1;33m(\u001b[0m\u001b[0mself\u001b[0m\u001b[1;33m)\u001b[0m\u001b[1;33m:\u001b[0m\u001b[1;33m\u001b[0m\u001b[1;33m\u001b[0m\u001b[0m\n\u001b[1;32m--> 877\u001b[1;33m         \u001b[0mself\u001b[0m\u001b[1;33m.\u001b[0m\u001b[0mprocess\u001b[0m\u001b[1;33m(\u001b[0m\u001b[1;33m)\u001b[0m\u001b[1;33m\u001b[0m\u001b[1;33m\u001b[0m\u001b[0m\n\u001b[0m\u001b[0;32m    878\u001b[0m         \u001b[1;32mif\u001b[0m \u001b[0mself\u001b[0m\u001b[1;33m.\u001b[0m\u001b[0mtransaction\u001b[0m\u001b[1;33m:\u001b[0m\u001b[1;33m\u001b[0m\u001b[1;33m\u001b[0m\u001b[0m\n\u001b[0;32m    879\u001b[0m             \u001b[0mself\u001b[0m\u001b[1;33m.\u001b[0m\u001b[0mtransaction\u001b[0m\u001b[1;33m.\u001b[0m\u001b[0mclose\u001b[0m\u001b[1;33m(\u001b[0m\u001b[1;33m)\u001b[0m\u001b[1;33m\u001b[0m\u001b[1;33m\u001b[0m\u001b[0m\n",
      "\u001b[1;32m~\\AppData\\Local\\conda\\conda\\envs\\dmenv\\lib\\site-packages\\py2neo\\database.py\u001b[0m in \u001b[0;36mprocess\u001b[1;34m(self)\u001b[0m\n\u001b[0;32m    872\u001b[0m         \"\"\"\n\u001b[0;32m    873\u001b[0m         \u001b[0mself\u001b[0m\u001b[1;33m.\u001b[0m\u001b[0m_assert_unfinished\u001b[0m\u001b[1;33m(\u001b[0m\u001b[1;33m)\u001b[0m\u001b[1;33m\u001b[0m\u001b[1;33m\u001b[0m\u001b[0m\n\u001b[1;32m--> 874\u001b[1;33m         \u001b[0mself\u001b[0m\u001b[1;33m.\u001b[0m\u001b[0msession\u001b[0m\u001b[1;33m.\u001b[0m\u001b[0msync\u001b[0m\u001b[1;33m(\u001b[0m\u001b[1;33m)\u001b[0m\u001b[1;33m\u001b[0m\u001b[1;33m\u001b[0m\u001b[0m\n\u001b[0m\u001b[0;32m    875\u001b[0m \u001b[1;33m\u001b[0m\u001b[0m\n\u001b[0;32m    876\u001b[0m     \u001b[1;32mdef\u001b[0m \u001b[0mfinish\u001b[0m\u001b[1;33m(\u001b[0m\u001b[0mself\u001b[0m\u001b[1;33m)\u001b[0m\u001b[1;33m:\u001b[0m\u001b[1;33m\u001b[0m\u001b[1;33m\u001b[0m\u001b[0m\n",
      "\u001b[1;32m~\\AppData\\Local\\conda\\conda\\envs\\dmenv\\lib\\site-packages\\py2neo\\internal\\http.py\u001b[0m in \u001b[0;36msync\u001b[1;34m(self)\u001b[0m\n\u001b[0;32m    321\u001b[0m             \u001b[1;32mif\u001b[0m \u001b[0merrors\u001b[0m\u001b[1;33m:\u001b[0m\u001b[1;33m\u001b[0m\u001b[1;33m\u001b[0m\u001b[0m\n\u001b[0;32m    322\u001b[0m                 \u001b[1;32mfrom\u001b[0m \u001b[0mpy2neo\u001b[0m\u001b[1;33m.\u001b[0m\u001b[0mdatabase\u001b[0m \u001b[1;32mimport\u001b[0m \u001b[0mGraphError\u001b[0m\u001b[1;33m\u001b[0m\u001b[1;33m\u001b[0m\u001b[0m\n\u001b[1;32m--> 323\u001b[1;33m                 \u001b[1;32mraise\u001b[0m \u001b[0mGraphError\u001b[0m\u001b[1;33m.\u001b[0m\u001b[0mhydrate\u001b[0m\u001b[1;33m(\u001b[0m\u001b[0merrors\u001b[0m\u001b[1;33m[\u001b[0m\u001b[1;36m0\u001b[0m\u001b[1;33m]\u001b[0m\u001b[1;33m)\u001b[0m\u001b[1;33m\u001b[0m\u001b[1;33m\u001b[0m\u001b[0m\n\u001b[0m\u001b[0;32m    324\u001b[0m             \u001b[1;32mfor\u001b[0m \u001b[0mi\u001b[0m\u001b[1;33m,\u001b[0m \u001b[0mresult_loader\u001b[0m \u001b[1;32min\u001b[0m \u001b[0menumerate\u001b[0m\u001b[1;33m(\u001b[0m\u001b[0mself\u001b[0m\u001b[1;33m.\u001b[0m\u001b[0m_result_loaders\u001b[0m\u001b[1;33m)\u001b[0m\u001b[1;33m:\u001b[0m\u001b[1;33m\u001b[0m\u001b[1;33m\u001b[0m\u001b[0m\n\u001b[0;32m    325\u001b[0m                 \u001b[1;32mtry\u001b[0m\u001b[1;33m:\u001b[0m\u001b[1;33m\u001b[0m\u001b[1;33m\u001b[0m\u001b[0m\n",
      "\u001b[1;31mCypherSyntaxError\u001b[0m: Invalid input ' ': expected 't/T' (line 1, column 57 (offset: 56))\r\n\"CREATE (course:Course {tmpId:\"226\", title:'A developer's guide to the Internet of Things (IoT)', photoLink:\"https://d3njjcbhbojbot.cloudfront.net/api/utilities/v1/imageproxy/https://coursera-course-photos.s3.amazonaws.com/5b/388f10065c11e6958e7b7f4c6a2563/Watson-IoT-thumbnail.jpg\", directLink:\"https://www.coursera.org/learn/developer-iot\", description:\">>> By enrolling in this course you agree to the End User License Agreement as set out in the FAQ.  Once enrolled you can access the license in the Resources area <<< The Internet of Things (IoT) is an area of rapid growth and opportunity. Technical innovations in networks, sensors and applications, coupled with the advent of 'smart machines' have resulted in a huge diversity of devices generating all kinds of structured and unstructured data that needs to be processed somewhere.  Collecting and understanding that data, combining it with other sources of information and putting it to good  use can be achieved by using connectivity, analytical and cognitive services now available on the cloud, allowing development and deployment of solutions to be achieved faster and more efficiently than ever before. This course is an entry level introduction to developing and deploying solutions for the Internet of Things. It will focus on capturing data from a trusted device and sending the data to a cloud platform where it can be exploited by the many services available. You will explore all the steps required to create a basic IoT solution using a popular device, the Raspberry Pi, and a trial version of the cloud-based IBM Watson IoT Platform.  What you will learn:  Quickly create applications that leverage connectivity and analytics as part of an integrated IoT platform.  Use Node-RED, an open-source visual application development environment, on both the device and the cloud.  Create a basic IoT solution by leveraging pre-built blocks of code that abstracts and speeds the development process. Use APIs to access the platform and explore the different connectivity options for various devices, gateways and applications. Explore options to ensure your solution makes best use of the captured data.    What technology is required to complete the course?   The programming assignments require you to have a Raspberry Pi device - any model of Raspberry Pi with a 40 pin header. The course also uses the SenseHAT extension board, whilst it is preferable to have a SenseHat there is a simulator provided if you can't get a SenseHAT.   You will need internet connectivity to download software, connect to the platform, develop and deploy your IoT solution. Your Rasberry Pi will need the latest Rasbian Jessie OS. This OS will be on a Micro SD Card. The recommended size of the SD card is 8GB but 4GB will do. Note that the learner kit comes with a preconfigured SD card. In order to setup the Micro SD card, you will need a computer with either a windows, apple or Linux OS. Since most computer do not have a micro SD port, you will need a Micro SD adapter or USB Micro SD card adapter. Your computer will also be used when working on the platform. To work on your Raspberry Pi, you will need an HDMI monitor or TV to work as the display for the Raspberry Pi (DVI monitor will also work). To connect the monitor to the Raspberry Pi you will need an HDMI cable (or a DVI to HDMI cable). Your Raspberry Pi needs a way to connect to the internet; either an Ethernet cable for connecting to the Router, or a USB WiFi dongle if you have wireless connectivity. Note that the Raspberry Pi 3 includes built-in WiFi A USB Keyboard and mouse. Your Raspberry Pi will also needs a 5V micro USB power supply i(This may be a phone charger for example) There is an IoT Learner kit available from element14 which includes the Raspberry Pi, a pre-flashed SD card, a case and power supply : https://www.element14.com/community/docs/DOC-82034/l/element14-iot-learner-kit  What prerequisite skills are required ? This is an entry level course, but does assume you have basic programming skills. The assignments set use both Python and JavaScript programming languages, so some basic skill in these languages is required. No previous experience with IBM Bluemix or the IBM Watson IoT Platform is required. What additional resources do I need for this course?  The Server side code for the assignments will use the IBM Cloud platform, so you will need to sign up for a free account on that platform. If you choose to take this course and earn the Coursera course certificate, you will also earn an IBM digital badge.  To find out more about IBM digital badges follow the link ibm.biz/badging.\"})\"\r\n                                                         ^"
     ]
    }
   ],
   "source": [
    "#Create Nodes and relationships\n",
    "import re\n",
    "\n",
    "for course in onlineCourses_JSONarr:\n",
    "    #Create Course node\n",
    "    description = re.sub('\\\"', '\\'', course['cDescription'])\n",
    "    description = re.sub('\\n\\n', ' ', description)\n",
    "    description = re.sub('\\n', ' ', description)\n",
    "    weekSection = re.sub('\\\"', '\\'', str(course['cWeekSection']))\n",
    "    weekSection = re.sub('\\n\\n', ' ', weekSection)\n",
    "    weekSection = re.sub('\\n', ' ', weekSection)\n",
    "    query = 'CREATE (course:Course {tmpId:\\\"' + str(course['tmpId']) + '\\\", ' +\\\n",
    "                                    'title:\\'' + course['cTitle'] + '\\', ' +\\\n",
    "                                    'photoLink:\\\"' + course['cPhotoLink'] + '\\\", ' +\\\n",
    "                                    'directLink:\\\"' + course['cDirectLink'] + '\\\", ' +\\\n",
    "                                    'description:\\\"' + description + '\\\"})'\n",
    "\n",
    "    graph.run(query)\n",
    "    #  'weekSection:\\\"' + weekSection + '\\\", ' +\\\n",
    "    \n",
    "    #Add relationships and other nodes\n",
    "    addLanguage(course['cLanguage'], str(course['tmpId']))\n",
    "    addProvider(course['cProvider'], str(course['tmpId']))\n",
    "    for cat in course['tmpCateg']:\n",
    "        addCategory(str(cat),str(course['tmpId']))\n",
    "    for prof in course['cAuthor']:\n",
    "        profname = re.sub('\\\"',',',prof)\n",
    "        addProfessor(profname, str(course['tmpId']))\n"
   ]
  },
  {
   "cell_type": "markdown",
   "metadata": {},
   "source": [
    "# 3. Draw graph"
   ]
  },
  {
   "cell_type": "code",
   "execution_count": null,
   "metadata": {
    "ExecuteTime": {
     "end_time": "2018-12-30T10:28:46.451210Z",
     "start_time": "2018-12-30T10:27:48.485Z"
    }
   },
   "outputs": [],
   "source": [
    "import scripts.vis\n",
    "from scripts.vis import draw\n",
    "\n",
    "options = {\"Professor\": \"name\", \"Course\": \"title\", \"Language\":\"language\", \"Category\":\"number\"}\n",
    "draw(graph, options)"
   ]
  },
  {
   "cell_type": "code",
   "execution_count": null,
   "metadata": {},
   "outputs": [],
   "source": []
  }
 ],
 "metadata": {
  "kernelspec": {
   "display_name": "Python 3",
   "language": "python",
   "name": "python3"
  },
  "language_info": {
   "codemirror_mode": {
    "name": "ipython",
    "version": 3
   },
   "file_extension": ".py",
   "mimetype": "text/x-python",
   "name": "python",
   "nbconvert_exporter": "python",
   "pygments_lexer": "ipython3",
   "version": "3.7.1"
  },
  "varInspector": {
   "cols": {
    "lenName": 16,
    "lenType": 16,
    "lenVar": 40
   },
   "kernels_config": {
    "python": {
     "delete_cmd_postfix": "",
     "delete_cmd_prefix": "del ",
     "library": "var_list.py",
     "varRefreshCmd": "print(var_dic_list())"
    },
    "r": {
     "delete_cmd_postfix": ") ",
     "delete_cmd_prefix": "rm(",
     "library": "var_list.r",
     "varRefreshCmd": "cat(var_dic_list()) "
    }
   },
   "types_to_exclude": [
    "module",
    "function",
    "builtin_function_or_method",
    "instance",
    "_Feature"
   ],
   "window_display": false
  }
 },
 "nbformat": 4,
 "nbformat_minor": 2
}
