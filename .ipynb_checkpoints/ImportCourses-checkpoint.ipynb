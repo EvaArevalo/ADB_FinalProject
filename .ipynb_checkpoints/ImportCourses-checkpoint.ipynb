{
 "cells": [
  {
   "cell_type": "markdown",
   "metadata": {},
   "source": [
    "# 1. Read JSON file"
   ]
  },
  {
   "cell_type": "code",
   "execution_count": 43,
   "metadata": {
    "ExecuteTime": {
     "end_time": "2018-12-30T04:23:36.180399Z",
     "start_time": "2018-12-30T04:23:36.115390Z"
    }
   },
   "outputs": [
    {
     "name": "stdout",
     "output_type": "stream",
     "text": [
      "826\n",
      "dict_keys(['cTitle', 'cProvider', 'cPhotoLink', 'cDirectLink', 'cDescription', 'cWeekSection', 'cAuthor', 'cLanguage', 'tmpCateg', 'tmpId'])\n"
     ]
    }
   ],
   "source": [
    "import json\n",
    "\n",
    "#Read JSON data into the datastore variable\n",
    "filename = 'online course data.json'\n",
    "with open(filename, 'r', encoding='UTF-8') as f:\n",
    "    onlineCourses_JSONarr = json.load(f)\n",
    "\n",
    "#Use the new datastore datastructure\n",
    "print(len(onlineCourses_JSONarr))\n",
    "print(onlineCourses_JSONarr[0].keys())"
   ]
  },
  {
   "cell_type": "code",
   "execution_count": 154,
   "metadata": {
    "ExecuteTime": {
     "end_time": "2018-12-30T07:25:40.331719Z",
     "start_time": "2018-12-30T07:25:40.325721Z"
    }
   },
   "outputs": [
    {
     "name": "stdout",
     "output_type": "stream",
     "text": [
      "Machine Learning\n",
      "用Python玩转数据 Data Processing Using Python\n",
      "Building a Data Science Team\n",
      "Command Line Tools for Genomic Data Science\n",
      "A Crash Course in Data Science\n",
      "Data Science in Real Life\n",
      "Materials Data Sciences and Informatics\n",
      "Computer Science:  Algorithms, Theory, and Machines\n",
      "Data Science Methodology\n",
      "Data Science Ethics\n"
     ]
    }
   ],
   "source": [
    "for i in range(0,10):\n",
    "    print(onlineCourses_JSONarr[i]['cTitle'])"
   ]
  },
  {
   "cell_type": "code",
   "execution_count": 446,
   "metadata": {
    "ExecuteTime": {
     "end_time": "2018-12-30T11:00:14.240739Z",
     "start_time": "2018-12-30T11:00:14.232741Z"
    }
   },
   "outputs": [
    {
     "data": {
      "text/plain": [
       "\"[{'name': 'Data Warehouse Concepts and Architectures', 'description': 'Module 1 introduces the course and covers concepts that provide a context for the remainder of this course. In the first two lessons, you’ll understand the objectives for the course and know what topics and assignments to expect. In the remaining lessons, you will learn about historical reasons for development of data warehouse technology, learning effects, business architectures, maturity models, project management issues, market trends, and employment opportunities. This informational module will ensure that you have the background for success in later modules that emphasize details and hands-on skills.You should also read about the software requirements in the lesson at the end of module 1. I recommend that you try to install the software this week before assignments begin in week 2.', 'timeCommitment': 13813000, 'id': 'HfGNt', 'lessonIds': ['Qrhdz', 'N9fJu', '92FTQ', 'q4vBJ', 'xJgms', 'gX8XP', 'akxlZ', 'aNJaW', 'UcPqK', 'oE7Pd'], 'slug': 'data-warehouse-concepts-and-architectures'}, {'name': 'Multidimensional Data Representation and Manipulation', 'description': 'Now that you have the informational context for data warehouse development, you’ll start using data warehouse tools! In module 2, you will learn about the multidimensional representation of a data warehouse used by business analysts. You’ll apply what you’ve learned in practice and graded problems using Pivot4J, an open source tool for manipulating pivot tables. At the end of this module, you will have solid background to communicate and assist business analysts who use a multidimensional representation of a data warehouse.', 'timeCommitment': 17415000, 'id': 'CjzJr', 'lessonIds': ['HAG3m', 'cEJ8w', 'pJUEG', '13xo8', 'MV13l', 'SYRuV', 'gkjde', 'WBGjl'], 'slug': 'multidimensional-data-representation-and-manipulation'}, {'name': 'Data Warehouse Design Practices and Methodologies', 'description': 'This module emphasizes data warehouse design skills. Now that you understand the multidimensional representation used by business analysts, you are ready to learn about data warehouse design using a relational database. In practice, the multidimensional representation used by business analysts must be derived from a data warehouse design using a relational DBMS.You will learn about design patterns, summarizability problems, and design methodologies. You will apply these concepts to mini case studies about data warehouse design. At the end of the module, you will have created data warehouse designs based on data sources and business needs of hypothetical organizations.', 'timeCommitment': 15999000, 'id': 'KAZcP', 'lessonIds': ['ybtHF', 'YmJSR', 'H6HpR', 'N4U2d', 'd1vwO', 'SWtS6', '5iUlW'], 'slug': 'data-warehouse-design-practices-and-methodologies'}, {'name': 'Data Integration Concepts, Processes,\\\\x0band Techniques ', 'description': 'Module 4 extends your background about data warehouse development. After learning about schema design concepts and practices, you are ready to learn about data integration processing to populate and refresh a data warehouse. The informational background in module 4 covers concepts about data sources, data integration processes, and techniques for pattern matching and inexact matching of text. Module 4 provides a context for the software skills that you will learn in module 5. ', 'timeCommitment': 8852000, 'id': 'UxNvu', 'lessonIds': ['mmXd5', 'c1tai', 'LUjLw', 'PDrh2', 'ZdVCT', 'Qn5cg', 'kZrpA'], 'slug': 'data-integration-concepts-processes-and-techniques'}, {'name': 'Architectures, Features, and \\\\x0bDetails of Data Integration Tools', 'description': 'Module 5 extends your background about data integration from module 4. Module 5 covers architectures, features, and details about data integration tools to complement the conceptual background in module 4. You will learn about the features of two open source data integration tools, Talend Open Studio and Pentaho Data Integration. You will use Pentaho Data Integration in guided tutorial in preparation for a graded assignment involving Pentaho Data Integration.', 'timeCommitment': 18891000, 'id': 'RgDr3', 'lessonIds': ['UMsU3', '1BmEU', 'HAYh3', 'ebOB4', 'wr9WA', 'ijd3A'], 'slug': 'architectures-features-and-details-of-data-integration-tools'}]\""
      ]
     },
     "execution_count": 446,
     "metadata": {},
     "output_type": "execute_result"
    }
   ],
   "source": [
    "str1=str(onlineCourses_JSONarr[114]['cWeekSection'])\n",
    "str1=re.sub('\\n\\n',' ',str1)\n",
    "str1=re.sub('\\n',' ',str1)\n",
    "str1"
   ]
  },
  {
   "cell_type": "markdown",
   "metadata": {},
   "source": [
    "# 2. Helper functions"
   ]
  },
  {
   "cell_type": "code",
   "execution_count": 393,
   "metadata": {
    "ExecuteTime": {
     "end_time": "2018-12-30T10:22:32.900343Z",
     "start_time": "2018-12-30T10:22:32.896345Z"
    }
   },
   "outputs": [],
   "source": [
    "def addProfessor(prof,courseId):\n",
    "    '''Check if professor exists in db, creates new professor if not and the TEACHES relationship with course'''\n",
    "    query = 'MERGE (professor:Professor {name: \\\"' + prof + '\\\"})' +\\\n",
    "            'MERGE (course:Course {tmpId: \\\"' + courseId + '\\\"})' +\\\n",
    "            'CREATE UNIQUE (professor)-[:TEACHES]->(course)'\n",
    "    graph.run(query)\n"
   ]
  },
  {
   "cell_type": "code",
   "execution_count": 394,
   "metadata": {
    "ExecuteTime": {
     "end_time": "2018-12-30T10:22:33.185300Z",
     "start_time": "2018-12-30T10:22:33.178300Z"
    }
   },
   "outputs": [],
   "source": [
    "def addLanguage(lang ,courseId):\n",
    "    '''Check if professor exists in db, creates new language if not and the LANGUAGE relationship with course'''\n",
    "    query = 'MERGE (language:Language {name: \\\"' + lang + '\\\"})' +\\\n",
    "            'MERGE (course:Course {tmpId: \\\"' + courseId + '\\\"})' +\\\n",
    "            'CREATE UNIQUE (course)-[:LANGUAGE]->(language)'\n",
    "    graph.run(query)\n",
    "                "
   ]
  },
  {
   "cell_type": "code",
   "execution_count": 395,
   "metadata": {
    "ExecuteTime": {
     "end_time": "2018-12-30T10:22:33.443262Z",
     "start_time": "2018-12-30T10:22:33.437260Z"
    }
   },
   "outputs": [],
   "source": [
    "def addCategory(cat ,courseId):\n",
    "    '''Check if professor exists in db, creates new category if not and the category relationship with course'''\n",
    "    query = 'MERGE (category:Category {number: \\\"' + cat + '\\\"})' +\\\n",
    "            'MERGE (course:Course {tmpId: \\\"' + courseId + '\\\"})' +\\\n",
    "            'CREATE UNIQUE (course)-[:IS_CATEGORY]->(category)'\n",
    "    graph.run(query)\n",
    "                "
   ]
  },
  {
   "cell_type": "code",
   "execution_count": 396,
   "metadata": {
    "ExecuteTime": {
     "end_time": "2018-12-30T10:22:33.770210Z",
     "start_time": "2018-12-30T10:22:33.764211Z"
    }
   },
   "outputs": [],
   "source": [
    "def addProvider(prov ,courseId):\n",
    "    '''Check if professor exists in db, creates new provider if not and the provider relationship with course'''\n",
    "    query = 'MERGE (provider:Provider {number: \\\"' + prov + '\\\"})' +\\\n",
    "            'MERGE (course:Course {tmpId: \\\"' + courseId + '\\\"})' +\\\n",
    "            'CREATE UNIQUE (provider)-[:PROVIDES]->(course)'\n",
    "    graph.run(query)\n",
    "                "
   ]
  },
  {
   "cell_type": "markdown",
   "metadata": {},
   "source": [
    "# 3. Connect to Neo4j DB"
   ]
  },
  {
   "cell_type": "code",
   "execution_count": 433,
   "metadata": {
    "ExecuteTime": {
     "end_time": "2018-12-30T10:54:56.460332Z",
     "start_time": "2018-12-30T10:54:55.267502Z"
    }
   },
   "outputs": [],
   "source": [
    "#connect and clean db\n",
    "from py2neo import Graph\n",
    "\n",
    "graph = Graph(\"http://localhost:7474\", user='EvaArevalo', password='yhwh123')\n",
    "graph.delete_all()"
   ]
  },
  {
   "cell_type": "code",
   "execution_count": 434,
   "metadata": {
    "ExecuteTime": {
     "end_time": "2018-12-30T10:54:56.611295Z",
     "start_time": "2018-12-30T10:54:56.588298Z"
    }
   },
   "outputs": [
    {
     "data": {
      "text/plain": [
       "<py2neo.database.Cursor at 0x1f41b2a6ba8>"
      ]
     },
     "execution_count": 434,
     "metadata": {},
     "output_type": "execute_result"
    }
   ],
   "source": [
    "#Create uniqueness constraints\n",
    "graph.run('CREATE CONSTRAINT ON (professor:Professor) ASSERT professor.name IS UNIQUE')\n",
    "graph.run('CREATE CONSTRAINT ON (course:Course) ASSERT course.tmpId IS UNIQUE')\n",
    "graph.run('CREATE CONSTRAINT ON (language:Language) ASSERT language.language IS UNIQUE')\n",
    "graph.run('CREATE CONSTRAINT ON (category:Category) ASSERT category.number IS UNIQUE')\n",
    "graph.run('CREATE CONSTRAINT ON (provider:Provider) ASSERT provider.name IS UNIQUE')"
   ]
  },
  {
   "cell_type": "code",
   "execution_count": 435,
   "metadata": {
    "ExecuteTime": {
     "end_time": "2018-12-30T10:54:56.783268Z",
     "start_time": "2018-12-30T10:54:56.777270Z"
    }
   },
   "outputs": [],
   "source": [
    "#drop constraints if needed\n",
    "#graph.run('DROP CONSTRAINT ON (course:Course) ASSERT course.title IS UNIQUE')"
   ]
  },
  {
   "cell_type": "code",
   "execution_count": 447,
   "metadata": {
    "ExecuteTime": {
     "end_time": "2018-12-30T11:06:46.603882Z",
     "start_time": "2018-12-30T11:01:14.715309Z"
    },
    "code_folding": [],
    "scrolled": true
   },
   "outputs": [],
   "source": [
    "#Create Nodes and relationships\n",
    "import re\n",
    "\n",
    "for course in onlineCourses_JSONarr:\n",
    "    #Create Course node\n",
    "    description = ''\n",
    "    weekSection = ''\n",
    "    photoLink = ''\n",
    "    directLink = ''\n",
    "    if 'cPhotoLink' in course and course['cPhotoLink']!=None:\n",
    "        photoLink = course['cPhotoLink']\n",
    "    if 'cDirectLink' in course and course['cDirectLink']!=None:\n",
    "        directLink = course['cDirectLink']\n",
    "    if 'cDescription' in course and course['cDescription']!=None:\n",
    "        description = re.sub('\\\"', '\\'', course['cDescription'])\n",
    "        description = re.sub('\\n\\n', ' ', description)\n",
    "        description = re.sub('\\n', ' ', description)\n",
    "    if 'cWeekSection' in course and course['cWeekSection']!=None:\n",
    "        weekSection = re.sub('\\\"', '\\'', str(course['cWeekSection']))\n",
    "        weekSection = re.sub('\\n\\n', ' ', weekSection)\n",
    "        weekSection = re.sub('\\n', ' ', weekSection)\n",
    "    title = re.sub('\\'', ',', course['cTitle'])\n",
    "    query = 'CREATE (course:Course {tmpId:\\\"' + str(course['tmpId']) + '\\\", ' +\\\n",
    "                                    'title:\\'' + title + '\\', ' +\\\n",
    "                                    'photoLink:\\\"' + photoLink + '\\\", ' +\\\n",
    "                                    'directLink:\\\"' + directLink + '\\\", ' +\\\n",
    "                                    'description:\\\"' + description +  '\\\", ' +\\\n",
    "                                    'weekSection:\\\"' + weekSection + '\\\"})' \n",
    "\n",
    "    graph.run(query)\n",
    "    #  'weekSection:\\\"' + weekSection + '\\\", ' +\\\n",
    "    \n",
    "    #Add relationships and other nodes\n",
    "    addLanguage(course['cLanguage'], str(course['tmpId']))\n",
    "    addProvider(course['cProvider'], str(course['tmpId']))\n",
    "    for cat in course['tmpCateg']:\n",
    "        addCategory(str(cat),str(course['tmpId']))\n",
    "    for prof in course['cAuthor']:\n",
    "        profname = re.sub('\\\"',',',prof)\n",
    "        addProfessor(profname, str(course['tmpId']))\n"
   ]
  },
  {
   "cell_type": "markdown",
   "metadata": {},
   "source": [
    "# 3. Draw graph"
   ]
  },
  {
   "cell_type": "code",
   "execution_count": null,
   "metadata": {
    "ExecuteTime": {
     "end_time": "2018-12-30T10:28:46.451210Z",
     "start_time": "2018-12-30T10:27:48.485Z"
    }
   },
   "outputs": [],
   "source": [
    "import scripts.vis\n",
    "from scripts.vis import draw\n",
    "\n",
    "options = {\"Professor\": \"name\", \"Course\": \"title\", \"Language\":\"language\", \"Category\":\"number\"}\n",
    "draw(graph, options)"
   ]
  },
  {
   "cell_type": "code",
   "execution_count": null,
   "metadata": {},
   "outputs": [],
   "source": []
  }
 ],
 "metadata": {
  "kernelspec": {
   "display_name": "Python 3",
   "language": "python",
   "name": "python3"
  },
  "language_info": {
   "codemirror_mode": {
    "name": "ipython",
    "version": 3
   },
   "file_extension": ".py",
   "mimetype": "text/x-python",
   "name": "python",
   "nbconvert_exporter": "python",
   "pygments_lexer": "ipython3",
   "version": "3.7.1"
  },
  "varInspector": {
   "cols": {
    "lenName": 16,
    "lenType": 16,
    "lenVar": 40
   },
   "kernels_config": {
    "python": {
     "delete_cmd_postfix": "",
     "delete_cmd_prefix": "del ",
     "library": "var_list.py",
     "varRefreshCmd": "print(var_dic_list())"
    },
    "r": {
     "delete_cmd_postfix": ") ",
     "delete_cmd_prefix": "rm(",
     "library": "var_list.r",
     "varRefreshCmd": "cat(var_dic_list()) "
    }
   },
   "types_to_exclude": [
    "module",
    "function",
    "builtin_function_or_method",
    "instance",
    "_Feature"
   ],
   "window_display": false
  }
 },
 "nbformat": 4,
 "nbformat_minor": 2
}
