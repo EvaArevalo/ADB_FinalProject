{
 "cells": [
  {
   "cell_type": "markdown",
   "metadata": {},
   "source": [
    "# 1. Read JSON file"
   ]
  },
  {
   "cell_type": "code",
   "execution_count": 43,
   "metadata": {
    "ExecuteTime": {
     "end_time": "2018-12-30T04:23:36.180399Z",
     "start_time": "2018-12-30T04:23:36.115390Z"
    }
   },
   "outputs": [
    {
     "name": "stdout",
     "output_type": "stream",
     "text": [
      "826\n",
      "dict_keys(['cTitle', 'cProvider', 'cPhotoLink', 'cDirectLink', 'cDescription', 'cWeekSection', 'cAuthor', 'cLanguage', 'tmpCateg', 'tmpId'])\n"
     ]
    }
   ],
   "source": [
    "import json\n",
    "\n",
    "#Read JSON data into the datastore variable\n",
    "filename = 'online course data.json'\n",
    "with open(filename, 'r', encoding='UTF-8') as f:\n",
    "    onlineCourses_JSONarr = json.load(f)\n",
    "\n",
    "#Use the new datastore datastructure\n",
    "print(len(onlineCourses_JSONarr))\n",
    "print(onlineCourses_JSONarr[0].keys())"
   ]
  },
  {
   "cell_type": "code",
   "execution_count": 154,
   "metadata": {
    "ExecuteTime": {
     "end_time": "2018-12-30T07:25:40.331719Z",
     "start_time": "2018-12-30T07:25:40.325721Z"
    }
   },
   "outputs": [
    {
     "name": "stdout",
     "output_type": "stream",
     "text": [
      "Machine Learning\n",
      "用Python玩转数据 Data Processing Using Python\n",
      "Building a Data Science Team\n",
      "Command Line Tools for Genomic Data Science\n",
      "A Crash Course in Data Science\n",
      "Data Science in Real Life\n",
      "Materials Data Sciences and Informatics\n",
      "Computer Science:  Algorithms, Theory, and Machines\n",
      "Data Science Methodology\n",
      "Data Science Ethics\n"
     ]
    }
   ],
   "source": [
    "for i in range(0,10):\n",
    "    print(onlineCourses_JSONarr[i]['cTitle'])"
   ]
  },
  {
   "cell_type": "code",
   "execution_count": 112,
   "metadata": {
    "ExecuteTime": {
     "end_time": "2018-12-30T06:54:19.941681Z",
     "start_time": "2018-12-30T06:54:19.933684Z"
    }
   },
   "outputs": [
    {
     "data": {
      "text/plain": [
       "\"[{'name': 'Introduction', 'description': 'Welcome to Machine Learning! In this module, we introduce the core idea of teaching a computer to learn concepts using data—without being explicitly programmed. The Course Wiki is under construction. Please visit the resources tab for the most complete and up-to-date information.', 'timeCommitment': 7088953, 'id': 'aOf6j', 'lessonIds': ['GOIXz', 'URH5n', '4Jpz0'], 'slug': 'introduction'}, {'name': 'Linear Regression with One Variable', 'description': 'Linear regression predicts a real-valued output based on an input value. We discuss the application of linear regression to housing price prediction, present the notion of a cost function, and introduce the gradient descent method for learning.', 'timeCommitment': 7500147, 'id': 'tN10A', 'lessonIds': ['emCIn', '7AyTq', 'bmUPd'], 'slug': 'linear-regression-with-one-variable'}, {'name': 'Linear Algebra Review', 'description': 'This optional module provides a refresher on linear algebra concepts. Basic understanding of linear algebra is necessary for the rest of the course, especially as we begin to cover models with multiple variables.', 'timeCommitment': 5681489, 'id': 'Wvrm2', 'lessonIds': ['iVV6v', '43si5'], 'slug': 'linear-algebra-review'}, {'name': 'Linear Regression with Multiple Variables', 'description': '\\\\nWhat if your input has more than one value? In this module, we show how linear regression can be extended to accommodate multiple input features. We also discuss best practices for implementing linear regression.', 'timeCommitment': 10126324, 'id': 'vW94N', 'lessonIds': ['FF77g', 'P50Gs', 'Tv4W9', 'TFRzS', 'RqTa8'], 'slug': 'linear-regression-with-multiple-variables'}, {'name': 'Octave/Matlab Tutorial', 'description': 'This course includes programming assignments designed to help you understand how to implement the learning algorithms in practice. To complete the programming assignments, you will need to use Octave or MATLAB. This module introduces Octave/Matlab and shows you how to submit an assignment.', 'timeCommitment': 16783651, 'id': '2B0GR', 'lessonIds': ['92U9W', 'Uzjb7'], 'slug': 'octave-matlab-tutorial'}, {'name': 'Logistic Regression', 'description': 'Logistic regression is a method for classifying data into discrete outcomes. For example, we might use logistic regression to classify an email  as spam or not spam. In this module, we introduce the notion of classification, the cost function for logistic regression, and the application of logistic regression to multi-class classification.\\\\n', 'timeCommitment': 6680947, 'id': 'mgpv7', 'lessonIds': ['TFce2', 'VeGBS', 'uGwU8', 'Zqaso'], 'slug': 'logistic-regression'}, {'name': 'Regularization', 'description': 'Machine learning models need to generalize well to new examples that the model has not seen in practice. In this module, we introduce regularization, which helps prevent models from overfitting the training data. ', 'timeCommitment': 15067533, 'id': '6okke', 'lessonIds': ['9coML', 'WDwmA'], 'slug': 'regularization'}, {'name': 'Neural Networks: Representation', 'description': 'Neural networks is a model inspired by how the brain works. It is widely used today in many applications: when your phone interprets and understand your voice commands, it is likely that a neural network is helping to understand your speech; when you cash a check, the machines that automatically read the digits also use neural networks. ', 'timeCommitment': 16957305, 'id': 'mZYiz', 'lessonIds': ['DAklL', '9caoH', 'FLtiC', 'bkJWs'], 'slug': 'neural-networks-representation'}, {'name': 'Neural Networks: Learning', 'description': 'In this module, we introduce the backpropagation algorithm that is used to help learn parameters for a neural network. At the end of this module, you will be implementing your own neural network for digit recognition.\\\\n', 'timeCommitment': 18517050, 'id': 'Aah2H', 'lessonIds': ['GlCRH', '5YKzp', 'VqCHe', '1Vn1r'], 'slug': 'neural-networks-learning'}, {'name': 'Advice for Applying Machine Learning', 'description': 'Applying machine learning in practice is not always straightforward. In this module, we share best practices for applying machine learning in practice, and discuss the best ways to evaluate performance of the learned models.\\\\n', 'timeCommitment': 16934311, 'id': 'xAUWb', 'lessonIds': ['UGbrV', 'o4rfB', 'mQ8BH'], 'slug': 'advice-for-applying-machine-learning'}, {'name': 'Machine Learning System Design', 'description': 'To optimize a machine learning algorithm, you’ll need to first understand where the biggest improvements can be made. In this module, we discuss how to understand the performance of a machine learning system with multiple parts, and also how to deal with skewed data.\\\\n', 'timeCommitment': 5131994, 'id': 'FrXvB', 'lessonIds': ['ke9yA', 'fK9tz', 'qcd4g', 'dw603'], 'slug': 'machine-learning-system-design'}, {'name': 'Support Vector Machines', 'description': 'Support vector machines, or SVMs, is a machine learning algorithm for classification. We introduce the idea and intuitions behind SVMs and discuss how to use it in practice.\\\\n', 'timeCommitment': 17855171, 'id': 'SSmw6', 'lessonIds': ['CfSbF', 'JzGkl', 'pOAvc', 'pHcQW'], 'slug': 'support-vector-machines'}, {'name': 'Unsupervised Learning', 'description': 'We use unsupervised learning to build models that help us understand our data better. We discuss the k-Means algorithm for clustering that enable us to learn groupings of unlabeled data points.', 'timeCommitment': 3545675, 'id': 'kxH2P', 'lessonIds': ['dZ7cl', 'dw18q'], 'slug': 'unsupervised-learning'}, {'name': 'Dimensionality Reduction', 'description': 'In this module, we introduce Principal Components Analysis, and show how it can be used for data compression to speed up learning algorithms as well as for visualizations of complex datasets.\\\\n', 'timeCommitment': 16029936, 'id': 'vBJVZ', 'lessonIds': ['Daziu', 'wmnUG', 'YmjIf', 'lGZqW'], 'slug': 'dimensionality-reduction'}, {'name': 'Anomaly Detection', 'description': 'Given a large number of data points, we may sometimes want to figure out which ones vary significantly from the average. For example, in manufacturing, we may want to detect defects or anomalies. We show how a dataset can be modeled using a Gaussian distribution, and how the model can be used for anomaly detection.\\\\n', 'timeCommitment': 6658796, 'id': 'HjnB4', 'lessonIds': ['JOdqz', 'mzWJz', 'VTf1a', '7pc9X'], 'slug': 'anomaly-detection'}, {'name': 'Recommender Systems', 'description': 'When you buy a product online, most websites automatically recommend other products that you may like. Recommender systems look at patterns of activities between different users and different products to produce these recommendations. In this module, we introduce recommender algorithms such as the collaborative filtering algorithm and low-rank matrix factorization.', 'timeCommitment': 15486424, 'id': 'Oag3J', 'lessonIds': ['cBfLu', 'dfHrm', 'Br81G', 'gQ4Os'], 'slug': 'recommender-systems'}, {'name': 'Large Scale Machine Learning', 'description': 'Machine learning works best when there is an abundance of data to leverage for training. In this module, we discuss how to apply the machine learning algorithms with large datasets.', 'timeCommitment': 5032204, 'id': 'ctqAZ', 'lessonIds': ['Ps6Qp', 'FAdK2', '1Of05'], 'slug': 'large-scale-machine-learning'}, {'name': 'Application Example: Photo OCR', 'description': 'Identifying and recognizing objects, words, and digits in an image is a challenging task. We discuss how a pipeline can be built to tackle this problem and how to analyze and improve the performance of such a system.\\\\n', 'timeCommitment': 4595078, 'id': 'mdclX', 'lessonIds': ['URom5', 'Oqa31', 'T6CAZ'], 'slug': 'application-example-photo-ocr'}]\""
      ]
     },
     "execution_count": 112,
     "metadata": {},
     "output_type": "execute_result"
    }
   ],
   "source": [
    "onlineCourses_JSONarr[0]['cWeekSection']"
   ]
  },
  {
   "cell_type": "markdown",
   "metadata": {},
   "source": [
    "# 2. Helper functions"
   ]
  },
  {
   "cell_type": "code",
   "execution_count": 285,
   "metadata": {
    "ExecuteTime": {
     "end_time": "2018-12-30T08:44:11.159278Z",
     "start_time": "2018-12-30T08:44:11.152278Z"
    }
   },
   "outputs": [],
   "source": [
    "def addProfessor(prof,courseName):\n",
    "    '''Check if professor exists in db, creates new professor if not and the TEACHES relationship with course'''\n",
    "    query = 'MATCH(professor:Professor{name:\\\"'+prof+'\\\"}) return count(professor)> 0 as exists'\n",
    "    data = graph.run(query)\n",
    "\n",
    "    for d in data:\n",
    "        result = d.items()[0]\n",
    "        if (result==('exists', True)):\n",
    "            #print('Prof Node ' + prof+'  already exists')\n",
    "            pass\n",
    "        else:\n",
    "            try:\n",
    "                query = 'CREATE (professor:Professor {name:\\'' + prof + '\\'})' \n",
    "                graph.run(query)\n",
    "            except:\n",
    "                print('ERROR CREATING: Professor node with name ' + prof )\n",
    "    \n",
    "        query = 'MERGE (professor:Professor {name: \\\"' + prof + '\\\"})' +\\\n",
    "                'MERGE (course:Course {title: \\\"' + courseName + '\\\"})' +\\\n",
    "                'CREATE UNIQUE (professor)-[:TEACHES]->(course)'\n",
    "        graph.run(query)\n",
    "                "
   ]
  },
  {
   "cell_type": "code",
   "execution_count": 286,
   "metadata": {
    "ExecuteTime": {
     "end_time": "2018-12-30T08:44:12.054194Z",
     "start_time": "2018-12-30T08:44:12.043195Z"
    }
   },
   "outputs": [],
   "source": [
    "def addLanguage(lang ,courseName):\n",
    "    '''Check if professor exists in db, creates new language if not and the LANGUAGE relationship with course'''\n",
    "    query = 'MATCH(language:Language{name:\\'' + lang + '\\'}) return count(language)> 0 as exists'\n",
    "    data = graph.run(query)\n",
    "\n",
    "    for d in data:\n",
    "        result = d.items()[0]\n",
    "        if (result==('exists', True)):\n",
    "            #print('Lang Node ' + lang+'  already exists')\n",
    "            pass\n",
    "        else:\n",
    "            try:\n",
    "                query = 'CREATE (language:Language {name:\\'' + lang + '\\'})' \n",
    "                graph.run(query)\n",
    "            except:\n",
    "                print('ERROR CREATING: Language node with name ' + lang )\n",
    "    \n",
    "        query = 'MERGE (language:Language {name: \\\"' + lang + '\\\"})' +\\\n",
    "                'MERGE (course:Course {title: \\\"' + courseName + '\\\"})' +\\\n",
    "                'CREATE UNIQUE (course)-[:LANGUAGE]->(language)'\n",
    "        graph.run(query)\n",
    "                "
   ]
  },
  {
   "cell_type": "code",
   "execution_count": 287,
   "metadata": {
    "ExecuteTime": {
     "end_time": "2018-12-30T08:44:12.566242Z",
     "start_time": "2018-12-30T08:44:12.560245Z"
    }
   },
   "outputs": [],
   "source": [
    "def addCategory(cat ,courseName):\n",
    "    '''Check if professor exists in db, creates new category if not and the category relationship with course'''\n",
    "    query = 'MATCH(category:Category{number:\\'' + cat + '\\'}) return count(category)> 0 as exists'\n",
    "    data = graph.run(query)\n",
    "\n",
    "    for d in data:\n",
    "        result = d.items()[0]\n",
    "        if (result==('exists', True)):\n",
    "            #print('cat Node ' + cat +'  already exists')\n",
    "            pass\n",
    "        else:\n",
    "            try:\n",
    "                query = 'CREATE (category:Category {number:\\'' + cat + '\\'})' \n",
    "                graph.run(query)\n",
    "            except:\n",
    "                print('ERROR CREATING: category node with number ' + cat )\n",
    "    \n",
    "        query = 'MERGE (category:Category {number: \\\"' + cat + '\\\"})' +\\\n",
    "                'MERGE (course:Course {title: \\\"' + courseName + '\\\"})' +\\\n",
    "                'CREATE UNIQUE (course)-[:IS_CATEGORY]->(category)'\n",
    "        graph.run(query)\n",
    "                "
   ]
  },
  {
   "cell_type": "markdown",
   "metadata": {},
   "source": [
    "# 3. Connect to Neo4j DB"
   ]
  },
  {
   "cell_type": "code",
   "execution_count": 288,
   "metadata": {
    "ExecuteTime": {
     "end_time": "2018-12-30T08:44:14.584929Z",
     "start_time": "2018-12-30T08:44:13.513094Z"
    }
   },
   "outputs": [],
   "source": [
    "#connect and clean db\n",
    "from py2neo import Graph\n",
    "\n",
    "graph = Graph(\"http://localhost:7474\", user='EvaArevalo', password='yhwh123')\n",
    "graph.delete_all()"
   ]
  },
  {
   "cell_type": "code",
   "execution_count": 289,
   "metadata": {
    "ExecuteTime": {
     "end_time": "2018-12-30T08:44:14.830891Z",
     "start_time": "2018-12-30T08:44:14.780899Z"
    }
   },
   "outputs": [
    {
     "data": {
      "text/plain": [
       "<py2neo.database.Cursor at 0x1f41b3d1978>"
      ]
     },
     "execution_count": 289,
     "metadata": {},
     "output_type": "execute_result"
    }
   ],
   "source": [
    "#Create uniqueness constraints\n",
    "graph.run('CREATE CONSTRAINT ON (professor:Professor) ASSERT professor.name IS UNIQUE')\n",
    "#graph.run('CREATE CONSTRAINT ON (course:Course) ASSERT course.title IS UNIQUE')\n",
    "graph.run('CREATE CONSTRAINT ON (language:Language) ASSERT language.language IS UNIQUE')\n",
    "graph.run('CREATE CONSTRAINT ON (category:Category) ASSERT category.number IS UNIQUE')\n",
    "graph.run('CREATE CONSTRAINT ON (provider:Provider) ASSERT provider.name IS UNIQUE')"
   ]
  },
  {
   "cell_type": "code",
   "execution_count": 290,
   "metadata": {
    "ExecuteTime": {
     "end_time": "2018-12-30T08:44:46.813042Z",
     "start_time": "2018-12-30T08:44:15.023859Z"
    },
    "code_folding": [],
    "scrolled": true
   },
   "outputs": [
    {
     "name": "stdout",
     "output_type": "stream",
     "text": [
      "ERROR CREATING: Professor node with name Dr. Tim 'Dr. T' Chamillard\n"
     ]
    },
    {
     "ename": "CypherSyntaxError",
     "evalue": "Invalid input 'x': expected '\\', ''', '\"', 'b', 'f', 'n', 'r', 't', UTF16 or UTF32 (line 1, column 3206 (offset: 3205))\r\n\"CREATE (course:Course {title:'Data Warehouse Concepts, Design, and Data Integration', photoLink:\"https://d3njjcbhbojbot.cloudfront.net/api/utilities/v1/imageproxy/https://coursera-course-photos.s3.amazonaws.com/de/bc87904d0911e5b9b22778162e6288/Course-2---Logo.png\", directLink:\"https://www.coursera.org/learn/dwdesign\", weekSection:\"[{'name': 'Data Warehouse Concepts and Architectures', 'description': 'Module 1 introduces the course and covers concepts that provide a context for the remainder of this course. In the first two lessons, you’ll understand the objectives for the course and know what topics and assignments to expect. In the remaining lessons, you will learn about historical reasons for development of data warehouse technology, learning effects, business architectures, maturity models, project management issues, market trends, and employment opportunities. This informational module will ensure that you have the background for success in later modules that emphasize details and hands-on skills.You should also read about the software requirements in the lesson at the end of module 1. I recommend that you try to install the software this week before assignments begin in week 2.', 'timeCommitment': 13813000, 'id': 'HfGNt', 'lessonIds': ['Qrhdz', 'N9fJu', '92FTQ', 'q4vBJ', 'xJgms', 'gX8XP', 'akxlZ', 'aNJaW', 'UcPqK', 'oE7Pd'], 'slug': 'data-warehouse-concepts-and-architectures'}, {'name': 'Multidimensional Data Representation and Manipulation', 'description': 'Now that you have the informational context for data warehouse development, you’ll start using data warehouse tools! In module 2, you will learn about the multidimensional representation of a data warehouse used by business analysts. You’ll apply what you’ve learned in practice and graded problems using Pivot4J, an open source tool for manipulating pivot tables. At the end of this module, you will have solid background to communicate and assist business analysts who use a multidimensional representation of a data warehouse.', 'timeCommitment': 17415000, 'id': 'CjzJr', 'lessonIds': ['HAG3m', 'cEJ8w', 'pJUEG', '13xo8', 'MV13l', 'SYRuV', 'gkjde', 'WBGjl'], 'slug': 'multidimensional-data-representation-and-manipulation'}, {'name': 'Data Warehouse Design Practices and Methodologies', 'description': 'This module emphasizes data warehouse design skills. Now that you understand the multidimensional representation used by business analysts, you are ready to learn about data warehouse design using a relational database. In practice, the multidimensional representation used by business analysts must be derived from a data warehouse design using a relational DBMS.You will learn about design patterns, summarizability problems, and design methodologies. You will apply these concepts to mini case studies about data warehouse design. At the end of the module, you will have created data warehouse designs based on data sources and business needs of hypothetical organizations.', 'timeCommitment': 15999000, 'id': 'KAZcP', 'lessonIds': ['ybtHF', 'YmJSR', 'H6HpR', 'N4U2d', 'd1vwO', 'SWtS6', '5iUlW'], 'slug': 'data-warehouse-design-practices-and-methodologies'}, {'name': 'Data Integration Concepts, Processes,\\x0band Techniques ', 'description': 'Module 4 extends your background about data warehouse development. After learning about schema design concepts and practices, you are ready to learn about data integration processing to populate and refresh a data warehouse. The informational background in module 4 covers concepts about data sources, data integration processes, and techniques for pattern matching and inexact matching of text. Module 4 provides a context for the software skills that you will learn in module 5. ', 'timeCommitment': 8852000, 'id': 'UxNvu', 'lessonIds': ['mmXd5', 'c1tai', 'LUjLw', 'PDrh2', 'ZdVCT', 'Qn5cg', 'kZrpA'], 'slug': 'data-integration-concepts-processes-and-techniques'}, {'name': 'Architectures, Features, and \\x0bDetails of Data Integration Tools', 'description': 'Module 5 extends your background about data integration from module 4. Module 5 covers architectures, features, and details about data integration tools to complement the conceptual background in module 4. You will learn about the features of two open source data integration tools, Talend Open Studio and Pentaho Data Integration. You will use Pentaho Data Integration in guided tutorial in preparation for a graded assignment involving Pentaho Data Integration.', 'timeCommitment': 18891000, 'id': 'RgDr3', 'lessonIds': ['UMsU3', '1BmEU', 'HAYh3', 'ebOB4', 'wr9WA', 'ijd3A'], 'slug': 'architectures-features-and-details-of-data-integration-tools'}]\", description:\"This is the second course in the Data Warehousing for Business Intelligence specialization. Ideally, the courses should be taken in sequence.\"\n                                                                                                                                                                                                                                                                                                                                                                                                                                                                                                                                                                                                                                                                                                                                                                                                                                                                                                                                                                                                                                                                                                                                                                                                                                                                                                                                                                                                                                                                                                                                                                                                                                                                                                                                                                                                                                                                                                                                                                                                                                                                                                                                                                                                                                                                                                                                                                                                                                                                                                                                                                                                                                                                                                                                                                                                                                                                                                                                                                                                                                                                                                                                                                                                                                                                                                                                      ^",
     "output_type": "error",
     "traceback": [
      "\u001b[1;31m---------------------------------------------------------------------\u001b[0m",
      "\u001b[1;31mCypherSyntaxError\u001b[0m                   Traceback (most recent call last)",
      "\u001b[1;32m<ipython-input-290-15da9d9d97bc>\u001b[0m in \u001b[0;36m<module>\u001b[1;34m()\u001b[0m\n\u001b[0;32m     12\u001b[0m     \u001b[0mquery\u001b[0m \u001b[1;33m=\u001b[0m \u001b[1;34m'CREATE (course:Course {title:\\''\u001b[0m \u001b[1;33m+\u001b[0m \u001b[0mcourse\u001b[0m\u001b[1;33m[\u001b[0m\u001b[1;34m'cTitle'\u001b[0m\u001b[1;33m]\u001b[0m \u001b[1;33m+\u001b[0m \u001b[1;34m'\\', '\u001b[0m \u001b[1;33m+\u001b[0m                                    \u001b[1;34m'photoLink:\\\"'\u001b[0m \u001b[1;33m+\u001b[0m \u001b[0mcourse\u001b[0m\u001b[1;33m[\u001b[0m\u001b[1;34m'cPhotoLink'\u001b[0m\u001b[1;33m]\u001b[0m \u001b[1;33m+\u001b[0m \u001b[1;34m'\\\", '\u001b[0m \u001b[1;33m+\u001b[0m                                    \u001b[1;34m'directLink:\\\"'\u001b[0m \u001b[1;33m+\u001b[0m \u001b[0mcourse\u001b[0m\u001b[1;33m[\u001b[0m\u001b[1;34m'cDirectLink'\u001b[0m\u001b[1;33m]\u001b[0m \u001b[1;33m+\u001b[0m \u001b[1;34m'\\\", '\u001b[0m \u001b[1;33m+\u001b[0m                                    \u001b[1;34m'weekSection:\\\"'\u001b[0m \u001b[1;33m+\u001b[0m \u001b[0mweekSection\u001b[0m \u001b[1;33m+\u001b[0m \u001b[1;34m'\\\", '\u001b[0m \u001b[1;33m+\u001b[0m                                    \u001b[1;34m'description:\\\"'\u001b[0m \u001b[1;33m+\u001b[0m \u001b[0mdescription\u001b[0m \u001b[1;33m+\u001b[0m \u001b[1;34m'\\\"})'\u001b[0m\u001b[1;33m\u001b[0m\u001b[1;33m\u001b[0m\u001b[0m\n\u001b[0;32m     13\u001b[0m     \u001b[1;31m#'weekSection:\\\"' + str(course['cWeekSection']) + '\\\", ' +\\\u001b[0m\u001b[1;33m\u001b[0m\u001b[1;33m\u001b[0m\u001b[1;33m\u001b[0m\u001b[0m\n\u001b[1;32m---> 14\u001b[1;33m     \u001b[0mgraph\u001b[0m\u001b[1;33m.\u001b[0m\u001b[0mrun\u001b[0m\u001b[1;33m(\u001b[0m\u001b[0mquery\u001b[0m\u001b[1;33m)\u001b[0m\u001b[1;33m\u001b[0m\u001b[1;33m\u001b[0m\u001b[0m\n\u001b[0m\u001b[0;32m     15\u001b[0m \u001b[1;33m\u001b[0m\u001b[0m\n\u001b[0;32m     16\u001b[0m     \u001b[1;31m#Add relationships and other nodes\u001b[0m\u001b[1;33m\u001b[0m\u001b[1;33m\u001b[0m\u001b[1;33m\u001b[0m\u001b[0m\n",
      "\u001b[1;32m~\\AppData\\Local\\conda\\conda\\envs\\dmenv\\lib\\site-packages\\py2neo\\database.py\u001b[0m in \u001b[0;36mrun\u001b[1;34m(self, cypher, parameters, **kwparameters)\u001b[0m\n\u001b[0;32m    496\u001b[0m         \u001b[1;33m:\u001b[0m\u001b[1;32mreturn\u001b[0m\u001b[1;33m:\u001b[0m\u001b[1;33m\u001b[0m\u001b[1;33m\u001b[0m\u001b[0m\n\u001b[0;32m    497\u001b[0m         \"\"\"\n\u001b[1;32m--> 498\u001b[1;33m         \u001b[1;32mreturn\u001b[0m \u001b[0mself\u001b[0m\u001b[1;33m.\u001b[0m\u001b[0mbegin\u001b[0m\u001b[1;33m(\u001b[0m\u001b[0mautocommit\u001b[0m\u001b[1;33m=\u001b[0m\u001b[1;32mTrue\u001b[0m\u001b[1;33m)\u001b[0m\u001b[1;33m.\u001b[0m\u001b[0mrun\u001b[0m\u001b[1;33m(\u001b[0m\u001b[0mcypher\u001b[0m\u001b[1;33m,\u001b[0m \u001b[0mparameters\u001b[0m\u001b[1;33m,\u001b[0m \u001b[1;33m**\u001b[0m\u001b[0mkwparameters\u001b[0m\u001b[1;33m)\u001b[0m\u001b[1;33m\u001b[0m\u001b[1;33m\u001b[0m\u001b[0m\n\u001b[0m\u001b[0;32m    499\u001b[0m \u001b[1;33m\u001b[0m\u001b[0m\n\u001b[0;32m    500\u001b[0m     \u001b[1;32mdef\u001b[0m \u001b[0mseparate\u001b[0m\u001b[1;33m(\u001b[0m\u001b[0mself\u001b[0m\u001b[1;33m,\u001b[0m \u001b[0msubgraph\u001b[0m\u001b[1;33m)\u001b[0m\u001b[1;33m:\u001b[0m\u001b[1;33m\u001b[0m\u001b[1;33m\u001b[0m\u001b[0m\n",
      "\u001b[1;32m~\\AppData\\Local\\conda\\conda\\envs\\dmenv\\lib\\site-packages\\py2neo\\database.py\u001b[0m in \u001b[0;36mrun\u001b[1;34m(self, cypher, parameters, **kwparameters)\u001b[0m\n\u001b[0;32m    866\u001b[0m         \u001b[1;32mfinally\u001b[0m\u001b[1;33m:\u001b[0m\u001b[1;33m\u001b[0m\u001b[1;33m\u001b[0m\u001b[0m\n\u001b[0;32m    867\u001b[0m             \u001b[1;32mif\u001b[0m \u001b[1;32mnot\u001b[0m \u001b[0mself\u001b[0m\u001b[1;33m.\u001b[0m\u001b[0mtransaction\u001b[0m\u001b[1;33m:\u001b[0m\u001b[1;33m\u001b[0m\u001b[1;33m\u001b[0m\u001b[0m\n\u001b[1;32m--> 868\u001b[1;33m                 \u001b[0mself\u001b[0m\u001b[1;33m.\u001b[0m\u001b[0mfinish\u001b[0m\u001b[1;33m(\u001b[0m\u001b[1;33m)\u001b[0m\u001b[1;33m\u001b[0m\u001b[1;33m\u001b[0m\u001b[0m\n\u001b[0m\u001b[0;32m    869\u001b[0m \u001b[1;33m\u001b[0m\u001b[0m\n\u001b[0;32m    870\u001b[0m     \u001b[1;32mdef\u001b[0m \u001b[0mprocess\u001b[0m\u001b[1;33m(\u001b[0m\u001b[0mself\u001b[0m\u001b[1;33m)\u001b[0m\u001b[1;33m:\u001b[0m\u001b[1;33m\u001b[0m\u001b[1;33m\u001b[0m\u001b[0m\n",
      "\u001b[1;32m~\\AppData\\Local\\conda\\conda\\envs\\dmenv\\lib\\site-packages\\py2neo\\database.py\u001b[0m in \u001b[0;36mfinish\u001b[1;34m(self)\u001b[0m\n\u001b[0;32m    875\u001b[0m \u001b[1;33m\u001b[0m\u001b[0m\n\u001b[0;32m    876\u001b[0m     \u001b[1;32mdef\u001b[0m \u001b[0mfinish\u001b[0m\u001b[1;33m(\u001b[0m\u001b[0mself\u001b[0m\u001b[1;33m)\u001b[0m\u001b[1;33m:\u001b[0m\u001b[1;33m\u001b[0m\u001b[1;33m\u001b[0m\u001b[0m\n\u001b[1;32m--> 877\u001b[1;33m         \u001b[0mself\u001b[0m\u001b[1;33m.\u001b[0m\u001b[0mprocess\u001b[0m\u001b[1;33m(\u001b[0m\u001b[1;33m)\u001b[0m\u001b[1;33m\u001b[0m\u001b[1;33m\u001b[0m\u001b[0m\n\u001b[0m\u001b[0;32m    878\u001b[0m         \u001b[1;32mif\u001b[0m \u001b[0mself\u001b[0m\u001b[1;33m.\u001b[0m\u001b[0mtransaction\u001b[0m\u001b[1;33m:\u001b[0m\u001b[1;33m\u001b[0m\u001b[1;33m\u001b[0m\u001b[0m\n\u001b[0;32m    879\u001b[0m             \u001b[0mself\u001b[0m\u001b[1;33m.\u001b[0m\u001b[0mtransaction\u001b[0m\u001b[1;33m.\u001b[0m\u001b[0mclose\u001b[0m\u001b[1;33m(\u001b[0m\u001b[1;33m)\u001b[0m\u001b[1;33m\u001b[0m\u001b[1;33m\u001b[0m\u001b[0m\n",
      "\u001b[1;32m~\\AppData\\Local\\conda\\conda\\envs\\dmenv\\lib\\site-packages\\py2neo\\database.py\u001b[0m in \u001b[0;36mprocess\u001b[1;34m(self)\u001b[0m\n\u001b[0;32m    872\u001b[0m         \"\"\"\n\u001b[0;32m    873\u001b[0m         \u001b[0mself\u001b[0m\u001b[1;33m.\u001b[0m\u001b[0m_assert_unfinished\u001b[0m\u001b[1;33m(\u001b[0m\u001b[1;33m)\u001b[0m\u001b[1;33m\u001b[0m\u001b[1;33m\u001b[0m\u001b[0m\n\u001b[1;32m--> 874\u001b[1;33m         \u001b[0mself\u001b[0m\u001b[1;33m.\u001b[0m\u001b[0msession\u001b[0m\u001b[1;33m.\u001b[0m\u001b[0msync\u001b[0m\u001b[1;33m(\u001b[0m\u001b[1;33m)\u001b[0m\u001b[1;33m\u001b[0m\u001b[1;33m\u001b[0m\u001b[0m\n\u001b[0m\u001b[0;32m    875\u001b[0m \u001b[1;33m\u001b[0m\u001b[0m\n\u001b[0;32m    876\u001b[0m     \u001b[1;32mdef\u001b[0m \u001b[0mfinish\u001b[0m\u001b[1;33m(\u001b[0m\u001b[0mself\u001b[0m\u001b[1;33m)\u001b[0m\u001b[1;33m:\u001b[0m\u001b[1;33m\u001b[0m\u001b[1;33m\u001b[0m\u001b[0m\n",
      "\u001b[1;32m~\\AppData\\Local\\conda\\conda\\envs\\dmenv\\lib\\site-packages\\py2neo\\internal\\http.py\u001b[0m in \u001b[0;36msync\u001b[1;34m(self)\u001b[0m\n\u001b[0;32m    321\u001b[0m             \u001b[1;32mif\u001b[0m \u001b[0merrors\u001b[0m\u001b[1;33m:\u001b[0m\u001b[1;33m\u001b[0m\u001b[1;33m\u001b[0m\u001b[0m\n\u001b[0;32m    322\u001b[0m                 \u001b[1;32mfrom\u001b[0m \u001b[0mpy2neo\u001b[0m\u001b[1;33m.\u001b[0m\u001b[0mdatabase\u001b[0m \u001b[1;32mimport\u001b[0m \u001b[0mGraphError\u001b[0m\u001b[1;33m\u001b[0m\u001b[1;33m\u001b[0m\u001b[0m\n\u001b[1;32m--> 323\u001b[1;33m                 \u001b[1;32mraise\u001b[0m \u001b[0mGraphError\u001b[0m\u001b[1;33m.\u001b[0m\u001b[0mhydrate\u001b[0m\u001b[1;33m(\u001b[0m\u001b[0merrors\u001b[0m\u001b[1;33m[\u001b[0m\u001b[1;36m0\u001b[0m\u001b[1;33m]\u001b[0m\u001b[1;33m)\u001b[0m\u001b[1;33m\u001b[0m\u001b[1;33m\u001b[0m\u001b[0m\n\u001b[0m\u001b[0;32m    324\u001b[0m             \u001b[1;32mfor\u001b[0m \u001b[0mi\u001b[0m\u001b[1;33m,\u001b[0m \u001b[0mresult_loader\u001b[0m \u001b[1;32min\u001b[0m \u001b[0menumerate\u001b[0m\u001b[1;33m(\u001b[0m\u001b[0mself\u001b[0m\u001b[1;33m.\u001b[0m\u001b[0m_result_loaders\u001b[0m\u001b[1;33m)\u001b[0m\u001b[1;33m:\u001b[0m\u001b[1;33m\u001b[0m\u001b[1;33m\u001b[0m\u001b[0m\n\u001b[0;32m    325\u001b[0m                 \u001b[1;32mtry\u001b[0m\u001b[1;33m:\u001b[0m\u001b[1;33m\u001b[0m\u001b[1;33m\u001b[0m\u001b[0m\n",
      "\u001b[1;31mCypherSyntaxError\u001b[0m: Invalid input 'x': expected '\\', ''', '\"', 'b', 'f', 'n', 'r', 't', UTF16 or UTF32 (line 1, column 3206 (offset: 3205))\r\n\"CREATE (course:Course {title:'Data Warehouse Concepts, Design, and Data Integration', photoLink:\"https://d3njjcbhbojbot.cloudfront.net/api/utilities/v1/imageproxy/https://coursera-course-photos.s3.amazonaws.com/de/bc87904d0911e5b9b22778162e6288/Course-2---Logo.png\", directLink:\"https://www.coursera.org/learn/dwdesign\", weekSection:\"[{'name': 'Data Warehouse Concepts and Architectures', 'description': 'Module 1 introduces the course and covers concepts that provide a context for the remainder of this course. In the first two lessons, you’ll understand the objectives for the course and know what topics and assignments to expect. In the remaining lessons, you will learn about historical reasons for development of data warehouse technology, learning effects, business architectures, maturity models, project management issues, market trends, and employment opportunities. This informational module will ensure that you have the background for success in later modules that emphasize details and hands-on skills.You should also read about the software requirements in the lesson at the end of module 1. I recommend that you try to install the software this week before assignments begin in week 2.', 'timeCommitment': 13813000, 'id': 'HfGNt', 'lessonIds': ['Qrhdz', 'N9fJu', '92FTQ', 'q4vBJ', 'xJgms', 'gX8XP', 'akxlZ', 'aNJaW', 'UcPqK', 'oE7Pd'], 'slug': 'data-warehouse-concepts-and-architectures'}, {'name': 'Multidimensional Data Representation and Manipulation', 'description': 'Now that you have the informational context for data warehouse development, you’ll start using data warehouse tools! In module 2, you will learn about the multidimensional representation of a data warehouse used by business analysts. You’ll apply what you’ve learned in practice and graded problems using Pivot4J, an open source tool for manipulating pivot tables. At the end of this module, you will have solid background to communicate and assist business analysts who use a multidimensional representation of a data warehouse.', 'timeCommitment': 17415000, 'id': 'CjzJr', 'lessonIds': ['HAG3m', 'cEJ8w', 'pJUEG', '13xo8', 'MV13l', 'SYRuV', 'gkjde', 'WBGjl'], 'slug': 'multidimensional-data-representation-and-manipulation'}, {'name': 'Data Warehouse Design Practices and Methodologies', 'description': 'This module emphasizes data warehouse design skills. Now that you understand the multidimensional representation used by business analysts, you are ready to learn about data warehouse design using a relational database. In practice, the multidimensional representation used by business analysts must be derived from a data warehouse design using a relational DBMS.You will learn about design patterns, summarizability problems, and design methodologies. You will apply these concepts to mini case studies about data warehouse design. At the end of the module, you will have created data warehouse designs based on data sources and business needs of hypothetical organizations.', 'timeCommitment': 15999000, 'id': 'KAZcP', 'lessonIds': ['ybtHF', 'YmJSR', 'H6HpR', 'N4U2d', 'd1vwO', 'SWtS6', '5iUlW'], 'slug': 'data-warehouse-design-practices-and-methodologies'}, {'name': 'Data Integration Concepts, Processes,\\x0band Techniques ', 'description': 'Module 4 extends your background about data warehouse development. After learning about schema design concepts and practices, you are ready to learn about data integration processing to populate and refresh a data warehouse. The informational background in module 4 covers concepts about data sources, data integration processes, and techniques for pattern matching and inexact matching of text. Module 4 provides a context for the software skills that you will learn in module 5. ', 'timeCommitment': 8852000, 'id': 'UxNvu', 'lessonIds': ['mmXd5', 'c1tai', 'LUjLw', 'PDrh2', 'ZdVCT', 'Qn5cg', 'kZrpA'], 'slug': 'data-integration-concepts-processes-and-techniques'}, {'name': 'Architectures, Features, and \\x0bDetails of Data Integration Tools', 'description': 'Module 5 extends your background about data integration from module 4. Module 5 covers architectures, features, and details about data integration tools to complement the conceptual background in module 4. You will learn about the features of two open source data integration tools, Talend Open Studio and Pentaho Data Integration. You will use Pentaho Data Integration in guided tutorial in preparation for a graded assignment involving Pentaho Data Integration.', 'timeCommitment': 18891000, 'id': 'RgDr3', 'lessonIds': ['UMsU3', '1BmEU', 'HAYh3', 'ebOB4', 'wr9WA', 'ijd3A'], 'slug': 'architectures-features-and-details-of-data-integration-tools'}]\", description:\"This is the second course in the Data Warehousing for Business Intelligence specialization. Ideally, the courses should be taken in sequence.\"\n                                                                                                                                                                                                                                                                                                                                                                                                                                                                                                                                                                                                                                                                                                                                                                                                                                                                                                                                                                                                                                                                                                                                                                                                                                                                                                                                                                                                                                                                                                                                                                                                                                                                                                                                                                                                                                                                                                                                                                                                                                                                                                                                                                                                                                                                                                                                                                                                                                                                                                                                                                                                                                                                                                                                                                                                                                                                                                                                                                                                                                                                                                                                                                                                                                                                                                                                      ^"
     ]
    }
   ],
   "source": [
    "#Create Nodes and relationships\n",
    "import re\n",
    "\n",
    "for course in onlineCourses_JSONarr:\n",
    "    #Create Course node\n",
    "    description = re.sub('\\\"','\\'',course['cDescription'])\n",
    "    weekSection = re.sub('\\\"','\\'',str(course['cWeekSection']))\n",
    "    query = 'CREATE (course:Course {title:\\'' + course['cTitle'] + '\\', ' +\\\n",
    "                                    'photoLink:\\\"' + course['cPhotoLink'] + '\\\", ' +\\\n",
    "                                    'directLink:\\\"' + course['cDirectLink'] + '\\\", ' +\\\n",
    "                                    'weekSection:\\\"' + weekSection + '\\\", ' +\\\n",
    "                                    'description:\\\"' + description + '\\\"})' \n",
    "    #'weekSection:\\\"' + str(course['cWeekSection']) + '\\\", ' +\\\n",
    "    graph.run(query)\n",
    "    \n",
    "    #Add relationships and other nodes\n",
    "    addLanguage(course['cLanguage'], course['cTitle'])\n",
    "    for cat in course['tmpCateg']:\n",
    "        addCategory(str(cat),course['cTitle'])\n",
    "    for prof in course['cAuthor']:\n",
    "        profname = re.sub('\\\"',',',prof)\n",
    "        addProfessor(profname, course['cTitle'])\n"
   ]
  },
  {
   "cell_type": "markdown",
   "metadata": {},
   "source": [
    "# 3. Draw graph"
   ]
  },
  {
   "cell_type": "code",
   "execution_count": 276,
   "metadata": {
    "ExecuteTime": {
     "end_time": "2018-12-30T08:27:43.886416Z",
     "start_time": "2018-12-30T08:27:43.714445Z"
    }
   },
   "outputs": [
    {
     "data": {
      "text/html": [
       "\n",
       "        <iframe\n",
       "            width=\"100%\"\n",
       "            height=\"400\"\n",
       "            src=\"figure/graph-fdbceb7f-7169-4784-abcb-a990d1ec5659.html\"\n",
       "            frameborder=\"0\"\n",
       "            allowfullscreen\n",
       "        ></iframe>\n",
       "        "
      ],
      "text/plain": [
       "<IPython.lib.display.IFrame at 0x1f41b382240>"
      ]
     },
     "execution_count": 276,
     "metadata": {},
     "output_type": "execute_result"
    }
   ],
   "source": [
    "import scripts.vis\n",
    "from scripts.vis import draw\n",
    "\n",
    "options = {\"Professor\": \"name\", \"Course\": \"title\", \"Language\":\"language\", \"Category\":\"number\"}\n",
    "draw(graph, options)"
   ]
  },
  {
   "cell_type": "code",
   "execution_count": null,
   "metadata": {},
   "outputs": [],
   "source": []
  }
 ],
 "metadata": {
  "kernelspec": {
   "display_name": "Python 3",
   "language": "python",
   "name": "python3"
  },
  "language_info": {
   "codemirror_mode": {
    "name": "ipython",
    "version": 3
   },
   "file_extension": ".py",
   "mimetype": "text/x-python",
   "name": "python",
   "nbconvert_exporter": "python",
   "pygments_lexer": "ipython3",
   "version": "3.7.1"
  },
  "varInspector": {
   "cols": {
    "lenName": 16,
    "lenType": 16,
    "lenVar": 40
   },
   "kernels_config": {
    "python": {
     "delete_cmd_postfix": "",
     "delete_cmd_prefix": "del ",
     "library": "var_list.py",
     "varRefreshCmd": "print(var_dic_list())"
    },
    "r": {
     "delete_cmd_postfix": ") ",
     "delete_cmd_prefix": "rm(",
     "library": "var_list.r",
     "varRefreshCmd": "cat(var_dic_list()) "
    }
   },
   "types_to_exclude": [
    "module",
    "function",
    "builtin_function_or_method",
    "instance",
    "_Feature"
   ],
   "window_display": false
  }
 },
 "nbformat": 4,
 "nbformat_minor": 2
}
